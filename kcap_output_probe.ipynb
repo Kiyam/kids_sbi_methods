{
 "cells": [
  {
   "cell_type": "code",
   "execution_count": 1,
   "metadata": {},
   "outputs": [],
   "source": [
    "import numpy as np\n",
    "from scipy import linalg\n",
    "from astropy.io import fits"
   ]
  },
  {
   "cell_type": "code",
   "execution_count": 2,
   "metadata": {},
   "outputs": [],
   "source": [
    "theory = np.genfromtxt('tests/sample_files/theory.txt')\n",
    "binned = np.genfromtxt('tests/sample_files/bin_ordered_data.dat')\n",
    "noisey = np.genfromtxt('tests/sample_files/noise_mean.txt')\n",
    "covariance = np.genfromtxt('tests/sample_files/covariance.txt')\n",
    "inv_covariance = np.genfromtxt('tests/sample_files/inv_covariance.txt')"
   ]
  },
  {
   "cell_type": "code",
   "execution_count": 3,
   "metadata": {},
   "outputs": [
    {
     "name": "stdout",
     "output_type": "stream",
     "text": [
      "False\n"
     ]
    }
   ],
   "source": [
    "print(np.allclose(binned, noisey, rtol = 0.0000001))"
   ]
  },
  {
   "cell_type": "code",
   "execution_count": 4,
   "metadata": {},
   "outputs": [],
   "source": [
    "binned_re = binned.reshape(30,-1)\n",
    "theory_re = theory.reshape(30,-1)\n",
    "\n",
    "overall_order = ['xi_plus', 'xi_minus']\n",
    "bin_order = ['bin_1_1', \n",
    "             'bin_2_1', 'bin_2_2', \n",
    "             'bin_3_1', 'bin_3_2', 'bin_3_3', \n",
    "             'bin_4_1', 'bin_4_2', 'bin_4_3', 'bin_4_4', \n",
    "             'bin_5_1', 'bin_5_2', 'bin_5_3', 'bin_5_4', 'bin_5_5']\n",
    "ordered_bins = []\n",
    "for order in overall_order:\n",
    "    for bin in bin_order:\n",
    "        ordered_bins.append(order + '_' + bin)\n",
    "\n",
    "new_order = [None] * len(ordered_bins)"
   ]
  },
  {
   "cell_type": "code",
   "execution_count": 6,
   "metadata": {},
   "outputs": [],
   "source": [
    "for i, proper in enumerate(theory_re):\n",
    "    for j, binned in enumerate(binned_re):\n",
    "        if np.allclose(proper, binned) is True:\n",
    "            new_order[i] = ordered_bins[j]"
   ]
  },
  {
   "cell_type": "code",
   "execution_count": 7,
   "metadata": {},
   "outputs": [
    {
     "name": "stdout",
     "output_type": "stream",
     "text": [
      "['xi_plus_bin_1_1', 'xi_plus_bin_2_1', 'xi_plus_bin_3_1', 'xi_plus_bin_4_1', 'xi_plus_bin_5_1', 'xi_plus_bin_2_2', 'xi_plus_bin_3_2', 'xi_plus_bin_4_2', 'xi_plus_bin_5_2', 'xi_plus_bin_3_3', 'xi_plus_bin_4_3', 'xi_plus_bin_5_3', 'xi_plus_bin_4_4', 'xi_plus_bin_5_4', 'xi_plus_bin_5_5', 'xi_minus_bin_1_1', 'xi_minus_bin_2_1', 'xi_minus_bin_3_1', 'xi_minus_bin_4_1', 'xi_minus_bin_5_1', 'xi_minus_bin_2_2', 'xi_minus_bin_3_2', 'xi_minus_bin_4_2', 'xi_minus_bin_5_2', 'xi_minus_bin_3_3', 'xi_minus_bin_4_3', 'xi_minus_bin_5_3', 'xi_minus_bin_4_4', 'xi_minus_bin_5_4', 'xi_minus_bin_5_5']\n"
     ]
    }
   ],
   "source": [
    "print(new_order)"
   ]
  },
  {
   "cell_type": "code",
   "execution_count": 7,
   "metadata": {},
   "outputs": [
    {
     "name": "stdout",
     "output_type": "stream",
     "text": [
      "True\n"
     ]
    }
   ],
   "source": [
    "covariance_transposed = np.transpose(covariance)\n",
    "print(np.allclose(covariance_transposed, covariance, rtol = 0.0000001))"
   ]
  },
  {
   "cell_type": "code",
   "execution_count": 8,
   "metadata": {},
   "outputs": [
    {
     "name": "stdout",
     "output_type": "stream",
     "text": [
      "False\n"
     ]
    }
   ],
   "source": [
    "# Checking to see if the KCAP inverse covariance is symmetric\n",
    "\n",
    "inv_covariance_transposed = np.transpose(inv_covariance)\n",
    "print(np.allclose(inv_covariance, inv_covariance_transposed, rtol = 0.0000001))"
   ]
  },
  {
   "cell_type": "code",
   "execution_count": 9,
   "metadata": {},
   "outputs": [
    {
     "name": "stdout",
     "output_type": "stream",
     "text": [
      "True\n"
     ]
    }
   ],
   "source": [
    "# Checking to see if the numpy method of inverting a covariance produces the same inverse covariance as KCAP\n",
    "\n",
    "inv_covariance_numpy = np.linalg.inv(covariance)\n",
    "print(np.allclose(inv_covariance, inv_covariance_numpy, rtol = 0.0000001))"
   ]
  },
  {
   "cell_type": "code",
   "execution_count": 10,
   "metadata": {},
   "outputs": [
    {
     "name": "stdout",
     "output_type": "stream",
     "text": [
      "True\n"
     ]
    },
    {
     "name": "stderr",
     "output_type": "stream",
     "text": [
      "/home/ruyi/anaconda3/envs/kcap_env/lib/python3.9/site-packages/numpy/linalg/linalg.py:2159: RuntimeWarning: overflow encountered in det\n",
      "  r = _umath_linalg.det(a, signature=signature)\n"
     ]
    }
   ],
   "source": [
    "# Checking if the determinants are the same\n",
    "\n",
    "det_cov = np.linalg.det(covariance)\n",
    "det_inv_cov = np.linalg.det(inv_covariance)\n",
    "print(np.allclose(det_cov, 1/det_inv_cov, rtol = 0.0000001))"
   ]
  },
  {
   "cell_type": "code",
   "execution_count": 11,
   "metadata": {},
   "outputs": [
    {
     "name": "stdout",
     "output_type": "stream",
     "text": [
      "True\n",
      "False\n"
     ]
    }
   ],
   "source": [
    "# Check if scipy inverse is the same as the KCAP inverse\n",
    "\n",
    "inv_covariance_scipy = linalg.inv(covariance)\n",
    "print(np.allclose(inv_covariance, inv_covariance_scipy, rtol = 0.0000001))\n",
    "print(np.allclose(inv_covariance, inv_covariance_scipy, rtol = 0.00000001))"
   ]
  },
  {
   "cell_type": "code",
   "execution_count": 12,
   "metadata": {},
   "outputs": [
    {
     "name": "stdout",
     "output_type": "stream",
     "text": [
      "False\n"
     ]
    }
   ],
   "source": [
    "# Check if the scipy inverse is symmetric\n",
    "\n",
    "scipy_inv_covariance_transposed = np.transpose(inv_covariance_scipy)\n",
    "print(np.allclose(scipy_inv_covariance_transposed, inv_covariance_scipy, rtol = 0.0000001))"
   ]
  },
  {
   "cell_type": "code",
   "execution_count": 13,
   "metadata": {},
   "outputs": [],
   "source": [
    "scipy_numpy_diff = inv_covariance_scipy - inv_covariance_numpy"
   ]
  },
  {
   "cell_type": "code",
   "execution_count": 14,
   "metadata": {},
   "outputs": [],
   "source": [
    "boosted_covariance = np.copy(covariance)\n",
    "for i, val in enumerate(boosted_covariance):\n",
    "    # boosted_covariance[i][i] = boosted_covariance[i][i]*2*10**len(val)\n",
    "    boosted_covariance[i][i] = boosted_covariance[i][i]*10**10"
   ]
  },
  {
   "cell_type": "code",
   "execution_count": 15,
   "metadata": {},
   "outputs": [
    {
     "name": "stdout",
     "output_type": "stream",
     "text": [
      "True\n"
     ]
    }
   ],
   "source": [
    "inv_boosted_covariance = linalg.inv(boosted_covariance)\n",
    "print(np.allclose(np.transpose(inv_boosted_covariance), inv_boosted_covariance, rtol = 0.0000001))"
   ]
  },
  {
   "cell_type": "code",
   "execution_count": 16,
   "metadata": {},
   "outputs": [],
   "source": [
    "unity = np.dot(inv_covariance, covariance)\n",
    "symmetrised_inv_covariance = (inv_covariance + inv_covariance.T)/2\n",
    "symmetrised_unity = np.dot(symmetrised_inv_covariance, covariance)\n",
    "symmetrised_unity_det = np.linalg.det(symmetrised_unity)\n",
    "unity_det = np.linalg.det(unity)"
   ]
  },
  {
   "cell_type": "code",
   "execution_count": 17,
   "metadata": {},
   "outputs": [
    {
     "name": "stdout",
     "output_type": "stream",
     "text": [
      "Filename: tests/sample_files/kids_covariance.fits\n",
      "No.    Name      Ver    Type      Cards   Dimensions   Format\n",
      "  0  PRIMARY       1 PrimaryHDU       4   ()      \n",
      "  1  COVMAT        1 ImageHDU        13   (270, 270)   float64   \n",
      "  2  xiP           1 BinTableHDU     29   135R x 5C   [K, K, K, D, D]   \n",
      "  3  xiM           1 BinTableHDU     29   135R x 5C   [K, K, K, D, D]   \n",
      "  4  NZ_SOURCE     1 BinTableHDU     36   119R x 8C   [D, D, D, D, D, D, D, D]   \n"
     ]
    }
   ],
   "source": [
    "hdul = fits.open('tests/sample_files/kids_covariance.fits')\n",
    "hdul.info()\n",
    "cov_data = hdul[1].data"
   ]
  },
  {
   "cell_type": "code",
   "execution_count": 18,
   "metadata": {},
   "outputs": [
    {
     "name": "stdout",
     "output_type": "stream",
     "text": [
      "True\n"
     ]
    }
   ],
   "source": [
    "print(np.allclose(covariance, cov_data, rtol = 0.0000001))"
   ]
  },
  {
   "cell_type": "code",
   "execution_count": 19,
   "metadata": {},
   "outputs": [
    {
     "name": "stdout",
     "output_type": "stream",
     "text": [
      "True\n"
     ]
    }
   ],
   "source": [
    "w, v = np.linalg.eig(covariance)\n",
    "inv_eigenvals = np.zeros(shape = (270,270))\n",
    "\n",
    "for i, val in enumerate(w):\n",
    "    if val > 1.*10**(-10):\n",
    "        inv_eigenvals[i][i] += 1/val\n",
    "    else:\n",
    "        pass\n",
    "\n",
    "inv_eigenvals_diag = np.diag(inv_eigenvals)\n",
    "\n",
    "eigen_inv_covariance = np.dot(v, np.dot(inv_eigenvals, v.T))\n",
    "print(np.allclose(eigen_inv_covariance, eigen_inv_covariance.T, 0.0000001))\n",
    "eigen_unity = np.dot(eigen_inv_covariance, covariance)\n",
    "eigen_unity_det = np.linalg.det(eigen_unity)\n",
    "diag = np.diag(eigen_unity)\n",
    "# inv_eigenvals = 1/w"
   ]
  },
  {
   "cell_type": "code",
   "execution_count": 20,
   "metadata": {},
   "outputs": [
    {
     "name": "stdout",
     "output_type": "stream",
     "text": [
      "True\n"
     ]
    }
   ],
   "source": [
    "L = np.linalg.cholesky(covariance)\n",
    "identity = np.identity(270)\n",
    "y = np.linalg.solve(L, identity)\n",
    "x = np.linalg.solve(L.T, y)\n",
    "\n",
    "print(np.allclose(x, x.T, 0.0000001))"
   ]
  },
  {
   "cell_type": "code",
   "execution_count": 21,
   "metadata": {},
   "outputs": [],
   "source": [
    "cholesky_unity = np.dot(x, covariance)\n",
    "cholestky_unity_det = np.linalg.det(cholesky_unity)"
   ]
  },
  {
   "cell_type": "code",
   "execution_count": 22,
   "metadata": {},
   "outputs": [
    {
     "data": {
      "text/plain": [
       "1.0"
      ]
     },
     "execution_count": 22,
     "metadata": {},
     "output_type": "execute_result"
    }
   ],
   "source": [
    "test_identity = np.identity(12)\n",
    "np.linalg.det(test_identity)"
   ]
  },
  {
   "cell_type": "code",
   "execution_count": 30,
   "metadata": {},
   "outputs": [],
   "source": [
    "suppressed_covariance = np.zeros(shape=(270,270))\n",
    "for i, cov_slice in enumerate(covariance):\n",
    "    for j, val in enumerate(cov_slice):\n",
    "        suppressed_covariance[i][j] = val * 0.001 ** (abs(i-j))\n",
    "inv_new_covariance = np.linalg.inv(suppressed_covariance)"
   ]
  },
  {
   "cell_type": "code",
   "execution_count": 31,
   "metadata": {},
   "outputs": [
    {
     "name": "stdout",
     "output_type": "stream",
     "text": [
      "True\n",
      "False\n"
     ]
    }
   ],
   "source": [
    "print(np.allclose(suppressed_covariance, suppressed_covariance.T, atol = 0.001))\n",
    "print(np.allclose(inv_new_covariance, inv_new_covariance.T, atol = 0.001, equal_nan = True))"
   ]
  },
  {
   "cell_type": "code",
   "execution_count": 32,
   "metadata": {},
   "outputs": [
    {
     "name": "stdout",
     "output_type": "stream",
     "text": [
      "inf\n"
     ]
    },
    {
     "name": "stderr",
     "output_type": "stream",
     "text": [
      "/home/ruyi/anaconda3/envs/kcap_env/lib/python3.9/site-packages/numpy/linalg/linalg.py:2159: RuntimeWarning: overflow encountered in det\n",
      "  r = _umath_linalg.det(a, signature=signature)\n"
     ]
    }
   ],
   "source": [
    "print(np.linalg.det(inv_new_covariance))"
   ]
  },
  {
   "cell_type": "code",
   "execution_count": 37,
   "metadata": {},
   "outputs": [
    {
     "name": "stdout",
     "output_type": "stream",
     "text": [
      "1.0\n",
      "0.9\n",
      "0.81\n",
      "0.9\n",
      "1.0\n",
      "0.9\n",
      "0.81\n",
      "0.9\n",
      "1.0\n",
      "[[1.   0.9  0.81]\n",
      " [0.9  1.   0.9 ]\n",
      " [0.81 0.9  1.  ]]\n"
     ]
    }
   ],
   "source": [
    "test_matrix = np.array([[1,1,1],[1,1,1],[1,1,1]])\n",
    "suppressed_matrix = np.zeros(shape=(3,3))\n",
    "for i, mat_slice in enumerate(test_matrix):\n",
    "    for j, val in enumerate(mat_slice):\n",
    "        suppressed_matrix[i][j] += val * 0.9 ** (abs(i-j))\n",
    "\n",
    "print(suppressed_matrix)"
   ]
  },
  {
   "cell_type": "markdown",
   "metadata": {},
   "source": [
    "# Looking at the kids fits file"
   ]
  },
  {
   "cell_type": "code",
   "execution_count": 8,
   "metadata": {},
   "outputs": [],
   "source": [
    "# hdul1 = fits.open('/home/ruyi/cosmology/kcap/runs/lfi_config/xipm_KIDS1000_BlindC_with_m_bias_V1.0.0A_ugriZYJHKs_photoz_SG_mask_LF_svn_309c_2Dbins_v2_goldclasses_Flag_SOM_Fid.fits')\n",
    "hdul = fits.open('/home/ruyi/cosmology/kcap/runs/lfi_config/delfi_kids_fits_noiseless.fits')"
   ]
  },
  {
   "cell_type": "code",
   "execution_count": 9,
   "metadata": {},
   "outputs": [
    {
     "name": "stdout",
     "output_type": "stream",
     "text": [
      "Filename: /home/ruyi/cosmology/kcap/runs/lfi_config/delfi_kids_fits_noiseless.fits\n",
      "No.    Name      Ver    Type      Cards   Dimensions   Format\n",
      "  0  PRIMARY       1 PrimaryHDU       4   ()      \n",
      "  1  COVMAT        1 ImageHDU        13   (270, 270)   float64   \n",
      "  2  xiP           1 BinTableHDU     29   135R x 5C   [K, K, K, D, D]   \n",
      "  3  xiM           1 BinTableHDU     29   135R x 5C   [K, K, K, D, D]   \n",
      "  4  NZ_SOURCE     1 BinTableHDU     36   119R x 8C   [D, D, D, D, D, D, D, D]   \n"
     ]
    }
   ],
   "source": [
    "hdul.info()"
   ]
  },
  {
   "cell_type": "code",
   "execution_count": 12,
   "metadata": {},
   "outputs": [
    {
     "data": {
      "text/plain": [
       "FITS_rec([(1, 1, 1, -7.77276009e-05,   0.71336491),\n",
       "          (1, 1, 2, -3.52416165e-06,   1.45209561),\n",
       "          (1, 1, 3, -9.50491139e-06,   2.95582478),\n",
       "          (1, 1, 4,  1.97019197e-05,   6.01675264),\n",
       "          (1, 1, 5,  2.39543778e-06,  12.24744871),\n",
       "          (1, 1, 6, -5.35730592e-06,  24.93039168),\n",
       "          (1, 1, 7,  2.75091742e-06,  50.74725716),\n",
       "          (1, 1, 8,  9.63998265e-07, 103.29898312),\n",
       "          (1, 1, 9, -4.44588679e-07, 210.27106705),\n",
       "          (1, 2, 1,  8.63755274e-05,   0.71336491),\n",
       "          (1, 2, 2,  1.64981643e-05,   1.45209561),\n",
       "          (1, 2, 3, -2.40071613e-05,   2.95582478),\n",
       "          (1, 2, 4, -1.18342989e-06,   6.01675264),\n",
       "          (1, 2, 5,  2.13667027e-06,  12.24744871),\n",
       "          (1, 2, 6, -3.13803476e-06,  24.93039168),\n",
       "          (1, 2, 7,  5.00681187e-07,  50.74725716),\n",
       "          (1, 2, 8,  8.75093925e-07, 103.29898312),\n",
       "          (1, 2, 9,  2.33044691e-07, 210.27106705),\n",
       "          (1, 3, 1, -3.85576686e-05,   0.71336491),\n",
       "          (1, 3, 2, -4.97313036e-06,   1.45209561),\n",
       "          (1, 3, 3, -1.89353193e-07,   2.95582478),\n",
       "          (1, 3, 4, -1.68290726e-06,   6.01675264),\n",
       "          (1, 3, 5,  1.52281783e-06,  12.24744871),\n",
       "          (1, 3, 6,  2.13375728e-06,  24.93039168),\n",
       "          (1, 3, 7,  1.41016232e-06,  50.74725716),\n",
       "          (1, 3, 8, -7.93504721e-08, 103.29898312),\n",
       "          (1, 3, 9,  2.46959514e-07, 210.27106705),\n",
       "          (1, 4, 1, -1.05138851e-05,   0.71336491),\n",
       "          (1, 4, 2,  9.96199197e-06,   1.45209561),\n",
       "          (1, 4, 3, -2.21970512e-09,   2.95582478),\n",
       "          (1, 4, 4,  8.83397134e-06,   6.01675264),\n",
       "          (1, 4, 5, -3.19346164e-06,  12.24744871),\n",
       "          (1, 4, 6,  2.88823266e-07,  24.93039168),\n",
       "          (1, 4, 7,  9.58027542e-08,  50.74725716),\n",
       "          (1, 4, 8,  7.08231484e-07, 103.29898312),\n",
       "          (1, 4, 9,  2.33217673e-07, 210.27106705),\n",
       "          (1, 5, 1,  7.70552994e-05,   0.71336491),\n",
       "          (1, 5, 2, -2.61418836e-05,   1.45209561),\n",
       "          (1, 5, 3, -8.29167993e-06,   2.95582478),\n",
       "          (1, 5, 4, -2.79710708e-07,   6.01675264),\n",
       "          (1, 5, 5,  1.25822490e-06,  12.24744871),\n",
       "          (1, 5, 6,  1.25904021e-06,  24.93039168),\n",
       "          (1, 5, 7, -3.60316179e-07,  50.74725716),\n",
       "          (1, 5, 8,  1.78159353e-07, 103.29898312),\n",
       "          (1, 5, 9, -1.53551505e-08, 210.27106705),\n",
       "          (2, 2, 1,  4.28525045e-05,   0.71336491),\n",
       "          (2, 2, 2,  7.35978397e-06,   1.45209561),\n",
       "          (2, 2, 3,  5.93523151e-06,   2.95582478),\n",
       "          (2, 2, 4,  1.86196981e-06,   6.01675264),\n",
       "          (2, 2, 5,  2.91973741e-06,  12.24744871),\n",
       "          (2, 2, 6,  3.44534261e-06,  24.93039168),\n",
       "          (2, 2, 7,  1.26823737e-06,  50.74725716),\n",
       "          (2, 2, 8, -4.76463913e-07, 103.29898312),\n",
       "          (2, 2, 9,  3.77653263e-07, 210.27106705),\n",
       "          (2, 3, 1,  5.19434772e-05,   0.71336491),\n",
       "          (2, 3, 2,  1.07588808e-05,   1.45209561),\n",
       "          (2, 3, 3,  2.52921823e-05,   2.95582478),\n",
       "          (2, 3, 4,  1.01532122e-05,   6.01675264),\n",
       "          (2, 3, 5,  3.54076260e-06,  12.24744871),\n",
       "          (2, 3, 6,  3.04304107e-06,  24.93039168),\n",
       "          (2, 3, 7,  1.74031155e-06,  50.74725716),\n",
       "          (2, 3, 8,  3.79535655e-07, 103.29898312),\n",
       "          (2, 3, 9,  6.87523083e-07, 210.27106705),\n",
       "          (2, 4, 1,  5.89973456e-05,   0.71336491),\n",
       "          (2, 4, 2,  5.51471182e-05,   1.45209561),\n",
       "          (2, 4, 3,  2.30998275e-05,   2.95582478),\n",
       "          (2, 4, 4,  1.37011252e-05,   6.01675264),\n",
       "          (2, 4, 5,  4.44348117e-06,  12.24744871),\n",
       "          (2, 4, 6,  4.07477031e-06,  24.93039168),\n",
       "          (2, 4, 7,  1.64473983e-06,  50.74725716),\n",
       "          (2, 4, 8,  7.46503797e-07, 103.29898312),\n",
       "          (2, 4, 9,  2.69251199e-07, 210.27106705),\n",
       "          (2, 5, 1,  2.53363824e-05,   0.71336491),\n",
       "          (2, 5, 2,  4.07627590e-05,   1.45209561),\n",
       "          (2, 5, 3,  2.24633918e-05,   2.95582478),\n",
       "          (2, 5, 4,  2.06530897e-05,   6.01675264),\n",
       "          (2, 5, 5,  1.00125522e-05,  12.24744871),\n",
       "          (2, 5, 6,  2.95503960e-06,  24.93039168),\n",
       "          (2, 5, 7,  2.61765320e-06,  50.74725716),\n",
       "          (2, 5, 8,  2.62445899e-07, 103.29898312),\n",
       "          (2, 5, 9,  3.79704932e-07, 210.27106705),\n",
       "          (3, 3, 1,  1.99681497e-05,   0.71336491),\n",
       "          (3, 3, 2,  4.10156811e-05,   1.45209561),\n",
       "          (3, 3, 3,  3.10465920e-05,   2.95582478),\n",
       "          (3, 3, 4,  1.44852349e-05,   6.01675264),\n",
       "          (3, 3, 5,  7.52103940e-06,  12.24744871),\n",
       "          (3, 3, 6,  2.14679602e-06,  24.93039168),\n",
       "          (3, 3, 7,  1.80756129e-06,  50.74725716),\n",
       "          (3, 3, 8,  9.79011899e-07, 103.29898312),\n",
       "          (3, 3, 9,  3.00741099e-07, 210.27106705),\n",
       "          (3, 4, 1,  1.31072747e-04,   0.71336491),\n",
       "          (3, 4, 2,  6.24620147e-05,   1.45209561),\n",
       "          (3, 4, 3,  4.17573573e-05,   2.95582478),\n",
       "          (3, 4, 4,  1.52480824e-05,   6.01675264),\n",
       "          (3, 4, 5,  1.52303092e-05,  12.24744871),\n",
       "          (3, 4, 6,  4.05735207e-06,  24.93039168),\n",
       "          (3, 4, 7,  2.94614191e-06,  50.74725716),\n",
       "          (3, 4, 8,  5.94805422e-07, 103.29898312),\n",
       "          (3, 4, 9,  4.49088284e-07, 210.27106705),\n",
       "          (3, 5, 1,  1.14030549e-04,   0.71336491),\n",
       "          (3, 5, 2,  7.96419607e-05,   1.45209561),\n",
       "          (3, 5, 3,  5.39908183e-05,   2.95582478),\n",
       "          (3, 5, 4,  2.47769381e-05,   6.01675264),\n",
       "          (3, 5, 5,  1.30069339e-05,  12.24744871),\n",
       "          (3, 5, 6,  8.27805987e-06,  24.93039168),\n",
       "          (3, 5, 7,  2.92337566e-06,  50.74725716),\n",
       "          (3, 5, 8,  1.21170919e-06, 103.29898312),\n",
       "          (3, 5, 9,  4.38700864e-07, 210.27106705),\n",
       "          (4, 4, 1,  1.43437036e-04,   0.71336491),\n",
       "          (4, 4, 2,  1.10934670e-04,   1.45209561),\n",
       "          (4, 4, 3,  4.48251539e-05,   2.95582478),\n",
       "          (4, 4, 4,  2.35805259e-05,   6.01675264),\n",
       "          (4, 4, 5,  2.18724020e-05,  12.24744871),\n",
       "          (4, 4, 6,  1.25929253e-05,  24.93039168),\n",
       "          (4, 4, 7,  4.44818104e-06,  50.74725716),\n",
       "          (4, 4, 8,  1.37220206e-06, 103.29898312),\n",
       "          (4, 4, 9,  1.49887150e-07, 210.27106705),\n",
       "          (4, 5, 1,  2.10321470e-04,   0.71336491),\n",
       "          (4, 5, 2,  1.49102464e-04,   1.45209561),\n",
       "          (4, 5, 3,  7.29736999e-05,   2.95582478),\n",
       "          (4, 5, 4,  3.41065645e-05,   6.01675264),\n",
       "          (4, 5, 5,  2.32087287e-05,  12.24744871),\n",
       "          (4, 5, 6,  1.25004050e-05,  24.93039168),\n",
       "          (4, 5, 7,  6.04837574e-06,  50.74725716),\n",
       "          (4, 5, 8,  1.79416180e-06, 103.29898312),\n",
       "          (4, 5, 9,  4.78365834e-07, 210.27106705),\n",
       "          (5, 5, 1,  2.30170156e-04,   0.71336491),\n",
       "          (5, 5, 2,  1.42680060e-04,   1.45209561),\n",
       "          (5, 5, 3,  8.49438241e-05,   2.95582478),\n",
       "          (5, 5, 4,  5.06793823e-05,   6.01675264),\n",
       "          (5, 5, 5,  2.56344150e-05,  12.24744871),\n",
       "          (5, 5, 6,  1.69159315e-05,  24.93039168),\n",
       "          (5, 5, 7,  6.91717028e-06,  50.74725716),\n",
       "          (5, 5, 8,  2.18845947e-06, 103.29898312),\n",
       "          (5, 5, 9,  3.02949659e-07, 210.27106705)],\n",
       "         dtype=(numpy.record, [('BIN1', '>i8'), ('BIN2', '>i8'), ('ANGBIN', '>i8'), ('VALUE', '>f8'), ('ANG', '>f8')]))"
      ]
     },
     "execution_count": 12,
     "metadata": {},
     "output_type": "execute_result"
    }
   ],
   "source": [
    "hdul[2].data"
   ]
  },
  {
   "cell_type": "code",
   "execution_count": 8,
   "metadata": {},
   "outputs": [
    {
     "data": {
      "text/plain": [
       "FITS_rec([(1, 1, 1,  1.25115625e-04,   0.71336491),\n",
       "          (1, 1, 2,  6.00683567e-06,   1.45209561),\n",
       "          (1, 1, 3,  6.19317502e-05,   2.95582478),\n",
       "          (1, 1, 4,  2.11742421e-06,   6.01675264),\n",
       "          (1, 1, 5, -2.92882256e-06,  12.24744871),\n",
       "          (1, 1, 6, -2.38991012e-06,  24.93039168),\n",
       "          (1, 1, 7, -1.56889835e-06,  50.74725716),\n",
       "          (1, 1, 8,  1.61541556e-07, 103.29898312),\n",
       "          (1, 1, 9, -3.29682598e-09, 210.27106705),\n",
       "          (1, 2, 1,  5.11868980e-05,   0.71336491),\n",
       "          (1, 2, 2,  2.82597971e-05,   1.45209561),\n",
       "          (1, 2, 3,  4.33571094e-06,   2.95582478),\n",
       "          (1, 2, 4,  9.95191063e-06,   6.01675264),\n",
       "          (1, 2, 5,  2.48591965e-06,  12.24744871),\n",
       "          (1, 2, 6,  8.84065085e-07,  24.93039168),\n",
       "          (1, 2, 7,  1.98120807e-06,  50.74725716),\n",
       "          (1, 2, 8,  3.05569286e-07, 103.29898312),\n",
       "          (1, 2, 9,  1.07653468e-07, 210.27106705),\n",
       "          (1, 3, 1, -3.04513359e-05,   0.71336491),\n",
       "          (1, 3, 2,  3.86821643e-05,   1.45209561),\n",
       "          (1, 3, 3,  2.01448230e-05,   2.95582478),\n",
       "          (1, 3, 4,  4.62980257e-06,   6.01675264),\n",
       "          (1, 3, 5, -8.35707663e-07,  12.24744871),\n",
       "          (1, 3, 6,  3.89650561e-07,  24.93039168),\n",
       "          (1, 3, 7,  5.06877570e-07,  50.74725716),\n",
       "          (1, 3, 8,  7.66023189e-07, 103.29898312),\n",
       "          (1, 3, 9, -1.79794317e-07, 210.27106705),\n",
       "          (1, 4, 1,  8.59289509e-05,   0.71336491),\n",
       "          (1, 4, 2,  3.38537046e-05,   1.45209561),\n",
       "          (1, 4, 3, -5.66702820e-06,   2.95582478),\n",
       "          (1, 4, 4, -2.88253409e-06,   6.01675264),\n",
       "          (1, 4, 5,  6.16454212e-06,  12.24744871),\n",
       "          (1, 4, 6, -4.11631783e-07,  24.93039168),\n",
       "          (1, 4, 7,  1.00046261e-06,  50.74725716),\n",
       "          (1, 4, 8,  1.23077417e-07, 103.29898312),\n",
       "          (1, 4, 9,  1.37508569e-07, 210.27106705),\n",
       "          (1, 5, 1, -3.83701893e-06,   0.71336491),\n",
       "          (1, 5, 2,  1.97468139e-05,   1.45209561),\n",
       "          (1, 5, 3,  1.26605774e-05,   2.95582478),\n",
       "          (1, 5, 4,  1.01172184e-05,   6.01675264),\n",
       "          (1, 5, 5,  5.53355205e-06,  12.24744871),\n",
       "          (1, 5, 6, -2.18202717e-07,  24.93039168),\n",
       "          (1, 5, 7,  1.45269531e-07,  50.74725716),\n",
       "          (1, 5, 8,  6.88899073e-07, 103.29898312),\n",
       "          (1, 5, 9,  2.74872258e-07, 210.27106705),\n",
       "          (2, 2, 1,  1.53349141e-04,   0.71336491),\n",
       "          (2, 2, 2,  4.09314163e-05,   1.45209561),\n",
       "          (2, 2, 3,  4.81005474e-05,   2.95582478),\n",
       "          (2, 2, 4,  1.26331597e-05,   6.01675264),\n",
       "          (2, 2, 5,  7.38840477e-06,  12.24744871),\n",
       "          (2, 2, 6,  4.25337372e-06,  24.93039168),\n",
       "          (2, 2, 7,  1.51626650e-06,  50.74725716),\n",
       "          (2, 2, 8,  6.76861870e-07, 103.29898312),\n",
       "          (2, 2, 9, -2.47917075e-07, 210.27106705),\n",
       "          (2, 3, 1,  3.10734908e-05,   0.71336491),\n",
       "          (2, 3, 2,  2.71993068e-05,   1.45209561),\n",
       "          (2, 3, 3,  2.79017900e-05,   2.95582478),\n",
       "          (2, 3, 4,  9.08156582e-06,   6.01675264),\n",
       "          (2, 3, 5,  4.58990225e-06,  12.24744871),\n",
       "          (2, 3, 6,  2.69341262e-06,  24.93039168),\n",
       "          (2, 3, 7,  1.56666197e-06,  50.74725716),\n",
       "          (2, 3, 8,  1.00212339e-06, 103.29898312),\n",
       "          (2, 3, 9,  1.00048874e-07, 210.27106705),\n",
       "          (2, 4, 1,  6.59907496e-05,   0.71336491),\n",
       "          (2, 4, 2,  5.16889138e-05,   1.45209561),\n",
       "          (2, 4, 3,  1.86250714e-05,   2.95582478),\n",
       "          (2, 4, 4,  1.77063429e-05,   6.01675264),\n",
       "          (2, 4, 5,  7.95418524e-06,  12.24744871),\n",
       "          (2, 4, 6,  8.38718631e-07,  24.93039168),\n",
       "          (2, 4, 7,  2.05278378e-06,  50.74725716),\n",
       "          (2, 4, 8,  7.77620502e-07, 103.29898312),\n",
       "          (2, 4, 9, -6.67248893e-08, 210.27106705),\n",
       "          (2, 5, 1,  5.43791853e-05,   0.71336491),\n",
       "          (2, 5, 2,  5.21209678e-05,   1.45209561),\n",
       "          (2, 5, 3,  2.07068010e-05,   2.95582478),\n",
       "          (2, 5, 4,  1.66140267e-05,   6.01675264),\n",
       "          (2, 5, 5,  7.09454819e-06,  12.24744871),\n",
       "          (2, 5, 6,  2.88530382e-06,  24.93039168),\n",
       "          (2, 5, 7,  1.53547087e-06,  50.74725716),\n",
       "          (2, 5, 8,  8.39757665e-07, 103.29898312),\n",
       "          (2, 5, 9,  1.07756899e-07, 210.27106705),\n",
       "          (3, 3, 1,  2.64166731e-05,   0.71336491),\n",
       "          (3, 3, 2,  5.35036856e-05,   1.45209561),\n",
       "          (3, 3, 3,  8.37105198e-06,   2.95582478),\n",
       "          (3, 3, 4,  2.05254104e-05,   6.01675264),\n",
       "          (3, 3, 5,  6.83571655e-06,  12.24744871),\n",
       "          (3, 3, 6,  4.20402253e-06,  24.93039168),\n",
       "          (3, 3, 7,  1.48040655e-06,  50.74725716),\n",
       "          (3, 3, 8,  1.29213277e-06, 103.29898312),\n",
       "          (3, 3, 9, -1.64851732e-07, 210.27106705),\n",
       "          (3, 4, 1,  6.61208809e-05,   0.71336491),\n",
       "          (3, 4, 2,  5.72785037e-05,   1.45209561),\n",
       "          (3, 4, 3,  2.83632859e-05,   2.95582478),\n",
       "          (3, 4, 4,  1.58175139e-05,   6.01675264),\n",
       "          (3, 4, 5,  1.01224013e-05,  12.24744871),\n",
       "          (3, 4, 6,  4.73247973e-06,  24.93039168),\n",
       "          (3, 4, 7,  2.27964013e-06,  50.74725716),\n",
       "          (3, 4, 8,  1.30268550e-06, 103.29898312),\n",
       "          (3, 4, 9,  4.20241612e-07, 210.27106705),\n",
       "          (3, 5, 1,  5.74797357e-05,   0.71336491),\n",
       "          (3, 5, 2,  3.00076588e-05,   1.45209561),\n",
       "          (3, 5, 3,  2.23472130e-05,   2.95582478),\n",
       "          (3, 5, 4,  2.02839072e-05,   6.01675264),\n",
       "          (3, 5, 5,  7.91316913e-06,  12.24744871),\n",
       "          (3, 5, 6,  6.00770506e-06,  24.93039168),\n",
       "          (3, 5, 7,  2.14815910e-06,  50.74725716),\n",
       "          (3, 5, 8,  1.39676269e-06, 103.29898312),\n",
       "          (3, 5, 9,  3.49426186e-07, 210.27106705),\n",
       "          (4, 4, 1,  1.02355273e-04,   0.71336491),\n",
       "          (4, 4, 2,  8.52586705e-05,   1.45209561),\n",
       "          (4, 4, 3,  5.92981877e-05,   2.95582478),\n",
       "          (4, 4, 4,  1.79961753e-05,   6.01675264),\n",
       "          (4, 4, 5,  1.78139990e-05,  12.24744871),\n",
       "          (4, 4, 6,  7.23535957e-06,  24.93039168),\n",
       "          (4, 4, 7,  4.52231662e-06,  50.74725716),\n",
       "          (4, 4, 8,  1.71302094e-06, 103.29898312),\n",
       "          (4, 4, 9,  4.46035299e-07, 210.27106705),\n",
       "          (4, 5, 1,  1.16078559e-04,   0.71336491),\n",
       "          (4, 5, 2,  1.01738889e-04,   1.45209561),\n",
       "          (4, 5, 3,  5.24079540e-05,   2.95582478),\n",
       "          (4, 5, 4,  2.79439993e-05,   6.01675264),\n",
       "          (4, 5, 5,  1.79471555e-05,  12.24744871),\n",
       "          (4, 5, 6,  1.21794470e-05,  24.93039168),\n",
       "          (4, 5, 7,  4.85714704e-06,  50.74725716),\n",
       "          (4, 5, 8,  2.71060537e-06, 103.29898312),\n",
       "          (4, 5, 9,  1.40501951e-06, 210.27106705),\n",
       "          (5, 5, 1,  1.77202327e-04,   0.71336491),\n",
       "          (5, 5, 2,  1.44635159e-04,   1.45209561),\n",
       "          (5, 5, 3,  7.80287675e-05,   2.95582478),\n",
       "          (5, 5, 4,  4.34470127e-05,   6.01675264),\n",
       "          (5, 5, 5,  2.50123763e-05,  12.24744871),\n",
       "          (5, 5, 6,  1.44644699e-05,  24.93039168),\n",
       "          (5, 5, 7,  6.96967943e-06,  50.74725716),\n",
       "          (5, 5, 8,  2.33235970e-06, 103.29898312),\n",
       "          (5, 5, 9,  1.20755084e-06, 210.27106705)],\n",
       "         dtype=(numpy.record, [('BIN1', '>i8'), ('BIN2', '>i8'), ('ANGBIN', '>i8'), ('VALUE', '>f8'), ('ANG', '>f8')]))"
      ]
     },
     "execution_count": 8,
     "metadata": {},
     "output_type": "execute_result"
    }
   ],
   "source": [
    "hdul[2].data"
   ]
  }
 ],
 "metadata": {
  "interpreter": {
   "hash": "01be924fe2aea4addbff86d278f5a467fa1e70dcc9b0a023e13e2c00a92b8b3c"
  },
  "kernelspec": {
   "display_name": "Python 3.7.10 64-bit ('cosmology_env': conda)",
   "name": "python3"
  },
  "language_info": {
   "codemirror_mode": {
    "name": "ipython",
    "version": 3
   },
   "file_extension": ".py",
   "mimetype": "text/x-python",
   "name": "python",
   "nbconvert_exporter": "python",
   "pygments_lexer": "ipython3",
   "version": "3.7.10"
  },
  "metadata": {
   "interpreter": {
    "hash": "b7bb6a9ea63ee00c693dfc502362a50030161101d36a10cd71fcbf05cd43970a"
   }
  },
  "orig_nbformat": 2
 },
 "nbformat": 4,
 "nbformat_minor": 2
}
