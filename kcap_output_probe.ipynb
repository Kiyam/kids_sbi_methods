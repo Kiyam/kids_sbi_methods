{
 "cells": [
  {
   "cell_type": "code",
   "execution_count": 1,
   "metadata": {},
   "outputs": [],
   "source": [
    "import numpy as np\n",
    "from scipy import linalg\n",
    "from astropy.io import fits"
   ]
  },
  {
   "cell_type": "code",
   "execution_count": 2,
   "metadata": {},
   "outputs": [],
   "source": [
    "theory = np.genfromtxt('tests/sample_files/theory.txt')\n",
    "binned = np.genfromtxt('tests/sample_files/bin_ordered_data.dat')\n",
    "noisey = np.genfromtxt('tests/sample_files/noise_mean.txt')\n",
    "covariance = np.genfromtxt('tests/sample_files/covariance.txt')\n",
    "inv_covariance = np.genfromtxt('tests/sample_files/inv_covariance.txt')"
   ]
  },
  {
   "cell_type": "code",
   "execution_count": 3,
   "metadata": {},
   "outputs": [
    {
     "name": "stdout",
     "output_type": "stream",
     "text": [
      "False\n"
     ]
    }
   ],
   "source": [
    "print(np.allclose(binned, noisey, rtol = 0.0000001))"
   ]
  },
  {
   "cell_type": "code",
   "execution_count": 4,
   "metadata": {},
   "outputs": [],
   "source": [
    "binned_re = binned.reshape(30,-1)\n",
    "theory_re = theory.reshape(30,-1)\n",
    "\n",
    "overall_order = ['xi_plus', 'xi_minus']\n",
    "bin_order = ['bin_1_1', \n",
    "             'bin_2_1', 'bin_2_2', \n",
    "             'bin_3_1', 'bin_3_2', 'bin_3_3', \n",
    "             'bin_4_1', 'bin_4_2', 'bin_4_3', 'bin_4_4', \n",
    "             'bin_5_1', 'bin_5_2', 'bin_5_3', 'bin_5_4', 'bin_5_5']\n",
    "ordered_bins = []\n",
    "for order in overall_order:\n",
    "    for bin in bin_order:\n",
    "        ordered_bins.append(order + '_' + bin)\n",
    "\n",
    "new_order = [None] * len(ordered_bins)"
   ]
  },
  {
   "cell_type": "code",
   "execution_count": 5,
   "metadata": {},
   "outputs": [],
   "source": [
    "for i, proper in enumerate(theory_re):\n",
    "    for j, binned in enumerate(binned_re):\n",
    "        if np.allclose(proper, binned) is True:\n",
    "            new_order[i] = ordered_bins[j]"
   ]
  },
  {
   "cell_type": "code",
   "execution_count": 6,
   "metadata": {},
   "outputs": [
    {
     "name": "stdout",
     "output_type": "stream",
     "text": [
      "True\n"
     ]
    }
   ],
   "source": [
    "covariance_transposed = np.transpose(covariance)\n",
    "print(np.allclose(covariance_transposed, covariance, rtol = 0.0000001))"
   ]
  },
  {
   "cell_type": "code",
   "execution_count": 7,
   "metadata": {},
   "outputs": [
    {
     "name": "stdout",
     "output_type": "stream",
     "text": [
      "False\n"
     ]
    }
   ],
   "source": [
    "# Checking to see if the KCAP inverse covariance is symmetric\n",
    "\n",
    "inv_covariance_transposed = np.transpose(inv_covariance)\n",
    "print(np.allclose(inv_covariance, inv_covariance_transposed, rtol = 0.0000001))"
   ]
  },
  {
   "cell_type": "code",
   "execution_count": 8,
   "metadata": {},
   "outputs": [
    {
     "name": "stdout",
     "output_type": "stream",
     "text": [
      "True\n"
     ]
    }
   ],
   "source": [
    "# Checking to see if the numpy method of inverting a covariance produces the same inverse covariance as KCAP\n",
    "\n",
    "inv_covariance_numpy = np.linalg.inv(covariance)\n",
    "print(np.allclose(inv_covariance, inv_covariance_numpy, rtol = 0.0000001))"
   ]
  },
  {
   "cell_type": "code",
   "execution_count": 9,
   "metadata": {},
   "outputs": [
    {
     "name": "stdout",
     "output_type": "stream",
     "text": [
      "True\n"
     ]
    },
    {
     "name": "stderr",
     "output_type": "stream",
     "text": [
      "/home/ruyi/anaconda3/envs/kcap_env/lib/python3.9/site-packages/numpy/linalg/linalg.py:2159: RuntimeWarning: overflow encountered in det\n",
      "  r = _umath_linalg.det(a, signature=signature)\n"
     ]
    }
   ],
   "source": [
    "# Checking if the determinants are the same\n",
    "\n",
    "det_cov = np.linalg.det(covariance)\n",
    "det_inv_cov = np.linalg.det(inv_covariance)\n",
    "print(np.allclose(det_cov, 1/det_inv_cov, rtol = 0.0000001))"
   ]
  },
  {
   "cell_type": "code",
   "execution_count": 10,
   "metadata": {},
   "outputs": [
    {
     "name": "stdout",
     "output_type": "stream",
     "text": [
      "True\n",
      "False\n"
     ]
    }
   ],
   "source": [
    "# Check if scipy inverse is the same as the KCAP inverse\n",
    "\n",
    "inv_covariance_scipy = linalg.inv(covariance)\n",
    "print(np.allclose(inv_covariance, inv_covariance_scipy, rtol = 0.0000001))\n",
    "print(np.allclose(inv_covariance, inv_covariance_scipy, rtol = 0.00000001))"
   ]
  },
  {
   "cell_type": "code",
   "execution_count": 11,
   "metadata": {},
   "outputs": [
    {
     "name": "stdout",
     "output_type": "stream",
     "text": [
      "False\n"
     ]
    }
   ],
   "source": [
    "# Check if the scipy inverse is symmetric\n",
    "\n",
    "scipy_inv_covariance_transposed = np.transpose(inv_covariance_scipy)\n",
    "print(np.allclose(scipy_inv_covariance_transposed, inv_covariance_scipy, rtol = 0.0000001))"
   ]
  },
  {
   "cell_type": "code",
   "execution_count": 12,
   "metadata": {},
   "outputs": [],
   "source": [
    "scipy_numpy_diff = inv_covariance_scipy - inv_covariance_numpy"
   ]
  },
  {
   "cell_type": "code",
   "execution_count": 13,
   "metadata": {},
   "outputs": [],
   "source": [
    "boosted_covariance = np.copy(covariance)\n",
    "for i, val in enumerate(boosted_covariance):\n",
    "    # boosted_covariance[i][i] = boosted_covariance[i][i]*2*10**len(val)\n",
    "    boosted_covariance[i][i] = boosted_covariance[i][i]*10**10"
   ]
  },
  {
   "cell_type": "code",
   "execution_count": 14,
   "metadata": {},
   "outputs": [
    {
     "name": "stdout",
     "output_type": "stream",
     "text": [
      "True\n"
     ]
    }
   ],
   "source": [
    "inv_boosted_covariance = linalg.inv(boosted_covariance)\n",
    "print(np.allclose(np.transpose(inv_boosted_covariance), inv_boosted_covariance, rtol = 0.0000001))"
   ]
  },
  {
   "cell_type": "code",
   "execution_count": 15,
   "metadata": {},
   "outputs": [],
   "source": [
    "unity = np.dot(inv_covariance, covariance)\n",
    "symmetrised_inv_covariance = (inv_covariance + inv_covariance.T)/2\n",
    "symmetrised_unity = np.dot(symmetrised_inv_covariance, covariance)\n",
    "symmetrised_unity_det = np.linalg.det(symmetrised_unity)\n",
    "unity_det = np.linalg.det(unity)"
   ]
  },
  {
   "cell_type": "code",
   "execution_count": 16,
   "metadata": {},
   "outputs": [
    {
     "name": "stdout",
     "output_type": "stream",
     "text": [
      "Filename: tests/sample_files/kids_covariance.fits\n",
      "No.    Name      Ver    Type      Cards   Dimensions   Format\n",
      "  0  PRIMARY       1 PrimaryHDU       4   ()      \n",
      "  1  COVMAT        1 ImageHDU        13   (270, 270)   float64   \n",
      "  2  xiP           1 BinTableHDU     29   135R x 5C   [K, K, K, D, D]   \n",
      "  3  xiM           1 BinTableHDU     29   135R x 5C   [K, K, K, D, D]   \n",
      "  4  NZ_SOURCE     1 BinTableHDU     36   119R x 8C   [D, D, D, D, D, D, D, D]   \n"
     ]
    }
   ],
   "source": [
    "hdul = fits.open('tests/sample_files/kids_covariance.fits')\n",
    "hdul.info()\n",
    "cov_data = hdul[1].data"
   ]
  },
  {
   "cell_type": "code",
   "execution_count": 17,
   "metadata": {},
   "outputs": [
    {
     "name": "stdout",
     "output_type": "stream",
     "text": [
      "True\n"
     ]
    }
   ],
   "source": [
    "print(np.allclose(covariance, cov_data, rtol = 0.0000001))"
   ]
  },
  {
   "cell_type": "code",
   "execution_count": 18,
   "metadata": {},
   "outputs": [
    {
     "name": "stdout",
     "output_type": "stream",
     "text": [
      "True\n"
     ]
    }
   ],
   "source": [
    "w, v = np.linalg.eig(covariance)\n",
    "inv_eigenvals = np.zeros(shape = (270,270))\n",
    "\n",
    "for i, val in enumerate(w):\n",
    "    if val > 1.*10**(-10):\n",
    "        inv_eigenvals[i][i] += 1/val\n",
    "    else:\n",
    "        pass\n",
    "\n",
    "inv_eigenvals_diag = np.diag(inv_eigenvals)\n",
    "\n",
    "eigen_inv_covariance = np.dot(v, np.dot(inv_eigenvals, v.T))\n",
    "print(np.allclose(eigen_inv_covariance, eigen_inv_covariance.T, 0.0000001))\n",
    "eigen_unity = np.dot(eigen_inv_covariance, covariance)\n",
    "eigen_unity_det = np.linalg.det(eigen_unity)\n",
    "diag = np.diag(eigen_unity)\n",
    "# inv_eigenvals = 1/w"
   ]
  },
  {
   "cell_type": "code",
   "execution_count": 19,
   "metadata": {},
   "outputs": [
    {
     "name": "stdout",
     "output_type": "stream",
     "text": [
      "True\n"
     ]
    }
   ],
   "source": [
    "L = np.linalg.cholesky(covariance)\n",
    "identity = np.identity(270)\n",
    "y = np.linalg.solve(L, identity)\n",
    "x = np.linalg.solve(L.T, y)\n",
    "\n",
    "print(np.allclose(x, x.T, 0.0000001))"
   ]
  },
  {
   "cell_type": "code",
   "execution_count": 20,
   "metadata": {},
   "outputs": [],
   "source": [
    "cholesky_unity = np.dot(x, covariance)\n",
    "cholestky_unity_det = np.linalg.det(cholesky_unity)"
   ]
  },
  {
   "cell_type": "code",
   "execution_count": 21,
   "metadata": {},
   "outputs": [
    {
     "data": {
      "text/plain": "1.0"
     },
     "execution_count": 21,
     "metadata": {},
     "output_type": "execute_result"
    }
   ],
   "source": [
    "test_identity = np.identity(12)\n",
    "np.linalg.det(test_identity)"
   ]
  },
  {
   "cell_type": "code",
   "execution_count": null,
   "metadata": {},
   "outputs": [],
   "source": []
  }
 ],
 "metadata": {
  "kernelspec": {
   "display_name": "Python 3.9.1 64-bit ('kcap_env': conda)",
   "name": "python391jvsc74a57bd0033d9ef514a3a275bdde5268b9a422ce7e57aaf0edcb69a446d6b6788ea5d300"
  },
  "language_info": {
   "codemirror_mode": {
    "name": "ipython",
    "version": 3
   },
   "file_extension": ".py",
   "mimetype": "text/x-python",
   "name": "python",
   "nbconvert_exporter": "python",
   "pygments_lexer": "ipython3",
   "version": "3.9.1"
  },
  "metadata": {
   "interpreter": {
    "hash": "b7bb6a9ea63ee00c693dfc502362a50030161101d36a10cd71fcbf05cd43970a"
   }
  },
  "orig_nbformat": 2
 },
 "nbformat": 4,
 "nbformat_minor": 2
}