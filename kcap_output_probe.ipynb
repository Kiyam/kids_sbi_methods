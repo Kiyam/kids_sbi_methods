{
 "metadata": {
  "language_info": {
   "codemirror_mode": {
    "name": "ipython",
    "version": 3
   },
   "file_extension": ".py",
   "mimetype": "text/x-python",
   "name": "python",
   "nbconvert_exporter": "python",
   "pygments_lexer": "ipython3",
   "version": "3.8"
  },
  "orig_nbformat": 2,
  "kernelspec": {
   "name": "pythonjvsc74a57bd0b7bb6a9ea63ee00c693dfc502362a50030161101d36a10cd71fcbf05cd43970a",
   "display_name": "Python 3.8  ('anaconda3': virtualenv)"
  },
  "metadata": {
   "interpreter": {
    "hash": "b7bb6a9ea63ee00c693dfc502362a50030161101d36a10cd71fcbf05cd43970a"
   }
  }
 },
 "nbformat": 4,
 "nbformat_minor": 2,
 "cells": [
  {
   "cell_type": "code",
   "execution_count": 1,
   "metadata": {},
   "outputs": [],
   "source": [
    "import numpy as np"
   ]
  },
  {
   "cell_type": "code",
   "execution_count": 8,
   "metadata": {},
   "outputs": [],
   "source": [
    "theory = np.genfromtxt('tests/sample_files/theory.txt')\n",
    "binned = np.genfromtxt('tests/sample_files/bin_ordered_data.dat')\n",
    "noisey = np.genfromtxt('tests/sample_files/noise_mean.txt')"
   ]
  },
  {
   "cell_type": "code",
   "execution_count": 9,
   "metadata": {},
   "outputs": [
    {
     "output_type": "stream",
     "name": "stdout",
     "text": [
      "False\n"
     ]
    }
   ],
   "source": [
    "print(np.allclose(binned, noisey, rtol = 0.00000000001))"
   ]
  },
  {
   "cell_type": "code",
   "execution_count": 10,
   "metadata": {},
   "outputs": [],
   "source": [
    "binned_re = binned.reshape(30,-1)\n",
    "theory_re = theory.reshape(30,-1)\n",
    "\n",
    "overall_order = ['xi_plus', 'xi_minus']\n",
    "bin_order = ['bin_1_1', \n",
    "             'bin_2_1', 'bin_2_2', \n",
    "             'bin_3_1', 'bin_3_2', 'bin_3_3', \n",
    "             'bin_4_1', 'bin_4_2', 'bin_4_3', 'bin_4_4', \n",
    "             'bin_5_1', 'bin_5_2', 'bin_5_3', 'bin_5_4', 'bin_5_5']\n",
    "ordered_bins = []\n",
    "for order in overall_order:\n",
    "    for bin in bin_order:\n",
    "        ordered_bins.append(order + '_' + bin)\n",
    "\n",
    "new_order = [None] * len(ordered_bins)"
   ]
  },
  {
   "cell_type": "code",
   "execution_count": 12,
   "metadata": {},
   "outputs": [],
   "source": [
    "for i, proper in enumerate(theory_re):\n",
    "    for j, binned in enumerate(binned_re):\n",
    "        if np.allclose(proper, binned) is True:\n",
    "            new_order[i] = ordered_bins[j]"
   ]
  },
  {
   "cell_type": "code",
   "execution_count": null,
   "metadata": {},
   "outputs": [],
   "source": []
  }
 ]
}