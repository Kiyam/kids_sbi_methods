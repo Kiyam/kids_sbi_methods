{
 "cells": [
  {
   "cell_type": "code",
   "execution_count": 1,
   "metadata": {},
   "outputs": [],
   "source": [
    "import numpy as np\n",
    "\n",
    "import kcap_methods as km\n",
    "import score_compression as sc\n",
    "import deriv_stepsize_investigation as dsi\n",
    "\n",
    "import matplotlib.pyplot as plt\n",
    "import os"
   ]
  },
  {
   "cell_type": "code",
   "execution_count": 2,
   "metadata": {},
   "outputs": [],
   "source": [
    "step_sizes = np.array([])\n",
    "for value in [0.00001, 0.0001, 0.001, 0.01]:\n",
    "    for i in range(9):\n",
    "        step_sizes = np.append(step_sizes, value * (i+1))\n",
    "step_sizes = np.append(step_sizes, 0.1)\n",
    "\n",
    "step_size_names = np.array([])\n",
    "# for value in [0.00001, 0.0001, 0.001, 0.01]:\n",
    "for i in range(9):\n",
    "    step_size_names = np.append(step_size_names, f\"{0.00001 * (i+1):.5f}\")\n",
    "for i in range(9):\n",
    "    step_size_names = np.append(step_size_names, f\"{0.0001 * (i+1):.4f}\")\n",
    "for i in range(9):\n",
    "    step_size_names = np.append(step_size_names, f\"{0.001 * (i+1):.3f}\")\n",
    "for i in range(9):\n",
    "    step_size_names = np.append(step_size_names, f\"{0.01 * (i+1):.2f}\")\n",
    "step_size_names = np.append(step_size_names, 0.1)"
   ]
  },
  {
   "cell_type": "markdown",
   "metadata": {},
   "source": [
    "# Define the system of parameters"
   ]
  },
  {
   "cell_type": "code",
   "execution_count": 3,
   "metadata": {},
   "outputs": [],
   "source": [
    "param_names = ['cosmological_parameters--omch2', 'cosmological_parameters--ombh2',\n",
    "               'cosmological_parameters--sigma_8', 'cosmological_parameters--n_s',\n",
    "               'intrinsic_alignment_parameters--a', 'halo_model_parameters--a']\n",
    "\n",
    "default_stepsizes = [0.01, 0.01, 0.01, 0.01, 0.001, 0.01]\n",
    "param_index_to_vary = 0\n",
    "\n",
    "mocks_dir_3pt = \"/home/ruyi/cosmology/kcap_output/kids_deriv_stepsize_test_3pt\"\n",
    "mocks_dir_5pt = \"/home/ruyi/cosmology/kcap_output/kids_deriv_stepsize_test_5pt\"\n",
    "mocks_dir_7pt = \"/home/ruyi/cosmology/kcap_output/kids_deriv_stepsize_test_7pt\"\n",
    "mocks_dir_9pt = \"/home/ruyi/cosmology/kcap_output/kids_deriv_stepsize_test_9pt\"\n",
    "mocks_name = \"kids_stepsize\""
   ]
  },
  {
   "cell_type": "code",
   "execution_count": null,
   "metadata": {},
   "outputs": [],
   "source": [
    "# eigen_fisher_matrix = dsi.compute_stepsize_fisher(stepsizes = default_stepsizes, \n",
    "#                                                   deriv_params = param_names, \n",
    "#                                                   data_params = ['theory'], \n",
    "#                                                   mocks_dir = mocks_dir,\n",
    "#                                                   mocks_name = mocks_name)"
   ]
  },
  {
   "cell_type": "markdown",
   "metadata": {},
   "source": [
    "# Calculate the derivatives for varying stepsizes and plot them"
   ]
  },
  {
   "cell_type": "code",
   "execution_count": 4,
   "metadata": {},
   "outputs": [
    {
     "data": {
      "text/plain": [
       "Text(0.5, 0, 'cosmological_parameters--omch2')"
      ]
     },
     "execution_count": 4,
     "metadata": {},
     "output_type": "execute_result"
    },
    {
     "data": {
      "image/png": "[encoded data removed]",
      "text/plain": [
       "<Figure size 432x288 with 1 Axes>"
      ]
     },
     "metadata": {
      "needs_background": "light"
     },
     "output_type": "display_data"
    }
   ],
   "source": [
    "this_param = param_names[0]\n",
    "\n",
    "fom_vals_3pt = dsi.get_fom_vals(param_index = 0, \n",
    "                            step_sizes = step_size_names, \n",
    "                            step_size_list = default_stepsizes, \n",
    "                            data_params = ['theory'], \n",
    "                            param_names = param_names, \n",
    "                            mocks_dir = mocks_dir_3pt, \n",
    "                            mocks_name = mocks_name)\n",
    "\n",
    "fom_vals_5pt = dsi.get_fom_vals(param_index = 0, \n",
    "                            step_sizes = step_size_names, \n",
    "                            step_size_list = default_stepsizes, \n",
    "                            data_params = ['theory'], \n",
    "                            param_names = param_names, \n",
    "                            mocks_dir = mocks_dir_5pt, \n",
    "                            mocks_name = mocks_name)\n",
    "\n",
    "plt.plot(step_sizes, fom_vals_3pt)\n",
    "plt.plot(step_sizes, fom_vals_5pt)\n",
    "plt.xscale('log')\n",
    "plt.xlabel(this_param)"
   ]
  },
  {
   "cell_type": "code",
   "execution_count": 5,
   "metadata": {},
   "outputs": [
    {
     "data": {
      "text/plain": [
       "Text(0.5, 0, 'cosmological_parameters--ombh2')"
      ]
     },
     "execution_count": 5,
     "metadata": {},
     "output_type": "execute_result"
    },
    {
     "data": {
      "image/png": "[encoded data removed]",
      "text/plain": [
       "<Figure size 432x288 with 1 Axes>"
      ]
     },
     "metadata": {
      "needs_background": "light"
     },
     "output_type": "display_data"
    }
   ],
   "source": [
    "this_param = param_names[1]\n",
    "\n",
    "fom_vals_3pt = dsi.get_fom_vals(param_index = 1, \n",
    "                            step_sizes = step_size_names, \n",
    "                            step_size_list = default_stepsizes, \n",
    "                            data_params = ['theory'], \n",
    "                            param_names = param_names, \n",
    "                            mocks_dir = mocks_dir_3pt, \n",
    "                            mocks_name = mocks_name)\n",
    "\n",
    "fom_vals_5pt = dsi.get_fom_vals(param_index = 1, \n",
    "                            step_sizes = step_size_names, \n",
    "                            step_size_list = default_stepsizes, \n",
    "                            data_params = ['theory'], \n",
    "                            param_names = param_names, \n",
    "                            mocks_dir = mocks_dir_5pt, \n",
    "                            mocks_name = mocks_name)\n",
    "\n",
    "plt.plot(step_sizes, fom_vals_3pt)\n",
    "plt.plot(step_sizes, fom_vals_5pt)\n",
    "plt.xscale('log')\n",
    "plt.xlabel(this_param)"
   ]
  },
  {
   "cell_type": "code",
   "execution_count": 6,
   "metadata": {},
   "outputs": [
    {
     "data": {
      "text/plain": [
       "Text(0.5, 0, 'cosmological_parameters--sigma_8')"
      ]
     },
     "execution_count": 6,
     "metadata": {},
     "output_type": "execute_result"
    },
    {
     "data": {
      "image/png": "[encoded data removed]",
      "text/plain": [
       "<Figure size 432x288 with 1 Axes>"
      ]
     },
     "metadata": {
      "needs_background": "light"
     },
     "output_type": "display_data"
    }
   ],
   "source": [
    "this_param = param_names[2]\n",
    "\n",
    "fom_vals_3pt = dsi.get_fom_vals(param_index = 2, \n",
    "                            step_sizes = step_size_names, \n",
    "                            step_size_list = default_stepsizes, \n",
    "                            data_params = ['theory'], \n",
    "                            param_names = param_names, \n",
    "                            mocks_dir = mocks_dir_3pt, \n",
    "                            mocks_name = mocks_name)\n",
    "\n",
    "fom_vals_5pt = dsi.get_fom_vals(param_index = 2, \n",
    "                            step_sizes = step_size_names, \n",
    "                            step_size_list = default_stepsizes, \n",
    "                            data_params = ['theory'], \n",
    "                            param_names = param_names, \n",
    "                            mocks_dir = mocks_dir_5pt, \n",
    "                            mocks_name = mocks_name)\n",
    "\n",
    "plt.plot(step_sizes, fom_vals_3pt)\n",
    "plt.plot(step_sizes, fom_vals_5pt)\n",
    "plt.xscale('log')\n",
    "plt.xlabel(this_param)"
   ]
  },
  {
   "cell_type": "code",
   "execution_count": 7,
   "metadata": {},
   "outputs": [
    {
     "data": {
      "text/plain": [
       "Text(0.5, 0, 'cosmological_parameters--n_s')"
      ]
     },
     "execution_count": 7,
     "metadata": {},
     "output_type": "execute_result"
    },
    {
     "data": {
      "image/png": "[encoded data removed]",
      "text/plain": [
       "<Figure size 432x288 with 1 Axes>"
      ]
     },
     "metadata": {
      "needs_background": "light"
     },
     "output_type": "display_data"
    }
   ],
   "source": [
    "this_param = param_names[3]\n",
    "\n",
    "fom_vals_3pt = dsi.get_fom_vals(param_index = 3, \n",
    "                            step_sizes = step_size_names, \n",
    "                            step_size_list = default_stepsizes, \n",
    "                            data_params = ['theory'], \n",
    "                            param_names = param_names, \n",
    "                            mocks_dir = mocks_dir_3pt, \n",
    "                            mocks_name = mocks_name)\n",
    "\n",
    "fom_vals_5pt = dsi.get_fom_vals(param_index = 3, \n",
    "                            step_sizes = step_size_names, \n",
    "                            step_size_list = default_stepsizes, \n",
    "                            data_params = ['theory'], \n",
    "                            param_names = param_names, \n",
    "                            mocks_dir = mocks_dir_5pt, \n",
    "                            mocks_name = mocks_name)\n",
    "\n",
    "plt.plot(step_sizes, fom_vals_3pt)\n",
    "plt.plot(step_sizes, fom_vals_5pt)\n",
    "plt.xscale('log')\n",
    "plt.xlabel(this_param)"
   ]
  },
  {
   "cell_type": "code",
   "execution_count": 8,
   "metadata": {},
   "outputs": [
    {
     "data": {
      "text/plain": [
       "Text(0.5, 0, 'intrinsic_alignment_parameters--a')"
      ]
     },
     "execution_count": 8,
     "metadata": {},
     "output_type": "execute_result"
    },
    {
     "data": {
      "image/png": "[encoded data removed]",
      "text/plain": [
       "<Figure size 432x288 with 1 Axes>"
      ]
     },
     "metadata": {
      "needs_background": "light"
     },
     "output_type": "display_data"
    }
   ],
   "source": [
    "this_param = param_names[4]\n",
    "\n",
    "fom_vals_3pt = dsi.get_fom_vals(param_index = 4, \n",
    "                            step_sizes = step_size_names, \n",
    "                            step_size_list = default_stepsizes, \n",
    "                            data_params = ['theory'], \n",
    "                            param_names = param_names, \n",
    "                            mocks_dir = mocks_dir_3pt, \n",
    "                            mocks_name = mocks_name)\n",
    "\n",
    "fom_vals_5pt = dsi.get_fom_vals(param_index = 4, \n",
    "                            step_sizes = step_size_names, \n",
    "                            step_size_list = default_stepsizes, \n",
    "                            data_params = ['theory'], \n",
    "                            param_names = param_names, \n",
    "                            mocks_dir = mocks_dir_5pt, \n",
    "                            mocks_name = mocks_name)\n",
    "\n",
    "plt.plot(step_sizes, fom_vals_3pt)\n",
    "plt.plot(step_sizes, fom_vals_5pt)\n",
    "plt.xscale('log')\n",
    "plt.xlabel(this_param)"
   ]
  },
  {
   "cell_type": "code",
   "execution_count": 9,
   "metadata": {},
   "outputs": [
    {
     "data": {
      "text/plain": [
       "Text(0.5, 0, 'halo_model_parameters--a')"
      ]
     },
     "execution_count": 9,
     "metadata": {},
     "output_type": "execute_result"
    },
    {
     "data": {
      "image/png": "[encoded data removed]",
      "text/plain": [
       "<Figure size 432x288 with 1 Axes>"
      ]
     },
     "metadata": {
      "needs_background": "light"
     },
     "output_type": "display_data"
    }
   ],
   "source": [
    "this_param = param_names[5]\n",
    "\n",
    "fom_vals_3pt = dsi.get_fom_vals(param_index = 5, \n",
    "                            step_sizes = step_size_names, \n",
    "                            step_size_list = default_stepsizes, \n",
    "                            data_params = ['theory'], \n",
    "                            param_names = param_names, \n",
    "                            mocks_dir = mocks_dir_3pt, \n",
    "                            mocks_name = mocks_name)\n",
    "\n",
    "fom_vals_5pt = dsi.get_fom_vals(param_index = 5, \n",
    "                            step_sizes = step_size_names, \n",
    "                            step_size_list = default_stepsizes, \n",
    "                            data_params = ['theory'], \n",
    "                            param_names = param_names, \n",
    "                            mocks_dir = mocks_dir_5pt, \n",
    "                            mocks_name = mocks_name)\n",
    "\n",
    "plt.plot(step_sizes, fom_vals_3pt)\n",
    "plt.plot(step_sizes, fom_vals_5pt)\n",
    "plt.xscale('log')\n",
    "plt.xlabel(this_param)"
   ]
  },
  {
   "cell_type": "code",
   "execution_count": null,
   "metadata": {},
   "outputs": [],
   "source": [
    "# # Get omega_m deriv FOMs\n",
    "\n",
    "omega_m_step_sizes, omega_m_fom = dsi.get_fom_vals(deriv_param = 'omega_m', step_sizes = step_sizes, mocks_dir = \"/home/ruyi_wsl/kcap_output/kids_stepsize\", mocks_name = \"kids_stepsize\")\n",
    "\n",
    "# Get omch2 deriv FOMs\n",
    "\n",
    "omch2_step_sizes, omch2_fom = dsi.get_fom_vals(deriv_param = 'omch2', step_sizes = step_sizes, mocks_dir = \"/home/ruyi_wsl/kcap_output/kids_stepsize\", mocks_name = \"kids_stepsize\")\n",
    "\n",
    "# # Get ia deriv FOMs\n",
    "\n",
    "# a_step_sizes, a_fom = dsi.get_fom_vals(deriv_param = 'a', step_sizes = step_sizes)\n",
    "\n",
    "# Get sigma_8 deriv FOMs\n",
    "\n",
    "sigma_8_step_sizes, sigma_8_fom = dsi.get_fom_vals(deriv_param = 'sigma_8', step_sizes = step_sizes, mocks_dir = \"/home/ruyi_wsl/kcap_output/kids_stepsize\", mocks_name = \"kids_stepsize\")\n"
   ]
  },
  {
   "cell_type": "code",
   "execution_count": null,
   "metadata": {},
   "outputs": [],
   "source": [
    "plt.plot(sigma_8_step_sizes, sigma_8_fom)\n",
    "plt.xscale('log')\n",
    "plt.xlabel('step size')\n",
    "plt.ylabel('$\\sigma_8$ fom')\n",
    "plt.title('$\\sigma_8$ derivative stability')\n",
    "plt.show()"
   ]
  },
  {
   "cell_type": "code",
   "execution_count": null,
   "metadata": {},
   "outputs": [],
   "source": [
    "plt.plot(omega_m_step_sizes, omega_m_fom)\n",
    "plt.xscale('log')\n",
    "plt.xlabel('step size')\n",
    "plt.ylabel('$\\Omega_m$ fom')\n",
    "plt.title('$\\Omega_m$ derivative stability')\n",
    "plt.show()"
   ]
  },
  {
   "cell_type": "code",
   "execution_count": null,
   "metadata": {},
   "outputs": [],
   "source": [
    "plt.plot(omch2_step_sizes, omch2_fom)\n",
    "plt.xscale('log')\n",
    "plt.xlabel('step size')\n",
    "plt.ylabel('omch2 fom')\n",
    "plt.title('Omch2 derivative stability')\n",
    "plt.show()"
   ]
  },
  {
   "cell_type": "markdown",
   "metadata": {},
   "source": [
    "Trial run 30 is the 0.01 stepsize run, so going to plot the actual derivative values that run. Should expect to see smooth IA/sigma_8, but non smooth omega_m"
   ]
  },
  {
   "cell_type": "code",
   "execution_count": null,
   "metadata": {},
   "outputs": [],
   "source": [
    "theta_dict = km.get_theta(mock_run = 30, vals_to_read = ['shear_xi_plus_binned', 'shear_xi_minus_binned'], mocks_dir = \"/home/ruyi_wsl/kcap_output/kids_stepsize\", mocks_name = \"kids_stepsize\")\n",
    "omega_m_deriv_dict = km.get_values(mock_run = 30, vals_to_read = ['shear_xi_plus_binned_omega_m_deriv', 'shear_xi_minus_binned_omega_m_deriv'], mocks_dir = \"/home/ruyi_wsl/kcap_output/kids_stepsize\", mocks_name = \"kids_stepsize\")\n",
    "sigma_deriv_dict = km.get_values(mock_run = 30, vals_to_read = ['shear_xi_plus_binned_sigma_8_deriv', 'shear_xi_minus_binned_sigma_8_deriv'], mocks_dir = \"/home/ruyi_wsl/kcap_output/kids_stepsize\", mocks_name = \"kids_stepsize\")\n",
    "\n",
    "bin_ordering = ['bin_1_1', \n",
    "                'bin_2_1', 'bin_2_2', \n",
    "                'bin_3_1', 'bin_3_2', 'bin_3_3', \n",
    "                'bin_4_1', 'bin_4_2', 'bin_4_3', 'bin_4_4', \n",
    "                'bin_5_1', 'bin_5_2', 'bin_5_3', 'bin_5_4', 'bin_5_5']"
   ]
  },
  {
   "cell_type": "markdown",
   "metadata": {},
   "source": [
    "The theta values seem to jump drastically in size, maybe this is part of the problem?"
   ]
  },
  {
   "cell_type": "code",
   "execution_count": null,
   "metadata": {},
   "outputs": [],
   "source": [
    "print(theta_dict['shear_xi_minus_binned'][0:9])"
   ]
  },
  {
   "cell_type": "markdown",
   "metadata": {},
   "source": [
    "Time to plot the derivative values vs. theta for the various parameters..."
   ]
  },
  {
   "cell_type": "code",
   "execution_count": null,
   "metadata": {},
   "outputs": [],
   "source": [
    "fig1, ax1 = plt.subplots(3, 5, sharey=True, sharex=True, figsize=(30,15))\n",
    "fig1.suptitle(\"$\\Omega_m$ derivatives vs. $\\Theta$\")\n",
    "for i in range(3):\n",
    "    ax1[i, 0].plot(theta_dict['shear_xi_minus_binned'][i*9:i*9+9], omega_m_deriv_dict['shear_xi_minus_binned_omega_m_deriv'][i*9:i*9+9])\n",
    "    ax1[i, 1].plot(theta_dict['shear_xi_minus_binned'][i*9+9:i*9+18], omega_m_deriv_dict['shear_xi_minus_binned_omega_m_deriv'][i*9+9:i*9+18])\n",
    "    ax1[i, 2].plot(theta_dict['shear_xi_minus_binned'][i*9+18:i*9+27], omega_m_deriv_dict['shear_xi_minus_binned_omega_m_deriv'][i*9+18:i*9+27])\n",
    "    ax1[i, 3].plot(theta_dict['shear_xi_minus_binned'][i*9+27:i*9+36], omega_m_deriv_dict['shear_xi_minus_binned_omega_m_deriv'][i*9+27:i*9+36])\n",
    "    ax1[i, 4].plot(theta_dict['shear_xi_minus_binned'][i*9+36:i*9+45], omega_m_deriv_dict['shear_xi_minus_binned_omega_m_deriv'][i*9+36:i*9+45])\n",
    "\n",
    "for i, ax in enumerate(ax1.flatten()):\n",
    "    ax.xaxis.set_tick_params(labelbottom=True)\n",
    "    ax.yaxis.set_tick_params(labelleft=True)\n",
    "    ax.set_title(bin_ordering[i])\n",
    "    ax.set_xlabel('$\\Theta$')\n",
    "    ax.set_ylabel(r'$\\dfrac{\\partial \\xi}{\\partial \\Omega_m}$', rotation = 0, labelpad = 15)\n"
   ]
  },
  {
   "cell_type": "code",
   "execution_count": null,
   "metadata": {},
   "outputs": [],
   "source": [
    "fig2, ax2 = plt.subplots(3, 5, sharex='all', sharey='all', figsize=(30,15))\n",
    "fig2.suptitle(\"$\\sigma_8$ derivatives vs. $\\Theta$\")\n",
    "for i in range(3):\n",
    "    ax2[i, 0].plot(theta_dict['shear_xi_minus_binned'][i*9:i*9+9], sigma_deriv_dict['shear_xi_minus_binned_sigma_8_deriv'][i*9:i*9+9])\n",
    "    ax2[i, 1].plot(theta_dict['shear_xi_minus_binned'][i*9+9:i*9+18], sigma_deriv_dict['shear_xi_minus_binned_sigma_8_deriv'][i*9+9:i*9+18])\n",
    "    ax2[i, 2].plot(theta_dict['shear_xi_minus_binned'][i*9+18:i*9+27], sigma_deriv_dict['shear_xi_minus_binned_sigma_8_deriv'][i*9+18:i*9+27])\n",
    "    ax2[i, 3].plot(theta_dict['shear_xi_minus_binned'][i*9+27:i*9+36], sigma_deriv_dict['shear_xi_minus_binned_sigma_8_deriv'][i*9+27:i*9+36])\n",
    "    ax2[i, 4].plot(theta_dict['shear_xi_minus_binned'][i*9+36:i*9+45], sigma_deriv_dict['shear_xi_minus_binned_sigma_8_deriv'][i*9+36:i*9+45])\n",
    "\n",
    "for i, ax in enumerate(ax2.flatten()):\n",
    "    ax.xaxis.set_tick_params(labelbottom=True)\n",
    "    ax.yaxis.set_tick_params(labelleft=True)\n",
    "    ax.set_title(bin_ordering[i])\n",
    "    ax.set_xlabel('$\\Theta$')\n",
    "    ax.set_ylabel(r'$\\dfrac{\\partial \\xi}{\\partial \\sigma_8}$', rotation = 0, labelpad = 10)"
   ]
  },
  {
   "cell_type": "markdown",
   "metadata": {},
   "source": [
    "Going to manually do a 5 pt stencil on a particular run to see if I get the right numerical value... Checks out\n",
    "\n",
    "stepsize = 0.001188\n",
    "\n",
    "-2dx = 1.102062485331285860e-07\n",
    "-1dx = 1.124031138053878084e-07\n",
    "+1dx = 1.168742971628652289e-07\n",
    "+2dx = 1.191538072909414418e-07\n",
    "\n",
    "deriv = 1.881446976852305560e-06"
   ]
  },
  {
   "cell_type": "markdown",
   "metadata": {},
   "source": [
    "# Let's try out looking at what the actual correlation function looks like"
   ]
  },
  {
   "cell_type": "code",
   "execution_count": null,
   "metadata": {},
   "outputs": [],
   "source": [
    "shear_xi_dict = km.get_values(mock_run = 27, vals_to_read = ['shear_xi_plus_binned', 'shear_xi_minus_binned'], mocks_dir = \"/home/ruyi_wsl/kcap_output/kids_stepsize\", mocks_name = \"kids_stepsize\")"
   ]
  },
  {
   "cell_type": "code",
   "execution_count": null,
   "metadata": {},
   "outputs": [],
   "source": [
    "fig4, ax4 = plt.subplots(3, 5, sharex='all', sharey='all', figsize=(30,15))\n",
    "fig4.suptitle(\"Correlation functions $\\\\xi$ vs. $\\Theta$\")\n",
    "for i in range(3):\n",
    "    ax4[i, 0].plot(theta_dict['shear_xi_minus_binned'][i*9:i*9+9], shear_xi_dict['shear_xi_minus_binned'][i*9:i*9+9])\n",
    "    ax4[i, 1].plot(theta_dict['shear_xi_minus_binned'][i*9+9:i*9+18], shear_xi_dict['shear_xi_minus_binned'][i*9+9:i*9+18])\n",
    "    ax4[i, 2].plot(theta_dict['shear_xi_minus_binned'][i*9+18:i*9+27], shear_xi_dict['shear_xi_minus_binned'][i*9+18:i*9+27])\n",
    "    ax4[i, 3].plot(theta_dict['shear_xi_minus_binned'][i*9+27:i*9+36], shear_xi_dict['shear_xi_minus_binned'][i*9+27:i*9+36])\n",
    "    ax4[i, 4].plot(theta_dict['shear_xi_minus_binned'][i*9+36:i*9+45], shear_xi_dict['shear_xi_minus_binned'][i*9+36:i*9+45])\n",
    "\n",
    "for i, ax in enumerate(ax4.flatten()):\n",
    "    ax.xaxis.set_tick_params(labelbottom=True)\n",
    "    ax.yaxis.set_tick_params(labelleft=True)\n",
    "    ax.set_title(bin_ordering[i])\n",
    "    ax.set_xlabel('$\\Theta$')\n",
    "    ax.set_ylabel(r'$\\xi$', rotation = 0, labelpad = 10)"
   ]
  },
  {
   "cell_type": "code",
   "execution_count": null,
   "metadata": {},
   "outputs": [],
   "source": [
    "omega_m_dx_dict = km.get_values(mock_run = 27, vals_to_read = ['shear_xi_plus_binned_omch2-2dx', 'shear_xi_plus_binned_omch2-1dx', 'shear_xi_plus_binned', 'shear_xi_plus_binned_omch2+1dx', 'shear_xi_plus_binned_omch2+2dx'], \n",
    "                                mocks_dir = \"/home/ruyi_wsl/kcap_output/kids_stepsize\", mocks_name = \"kids_stepsize\")\n",
    "\n",
    "fig5, ax5 = plt.subplots(5, 3, sharex=True, figsize=(30,45))\n",
    "fig5.suptitle(r\"$\\xi$ at +/- $\\delta$ omch deviations vs. $\\Theta$\")\n",
    "for i in range(5):\n",
    "    ax5[i, 0].plot(theta_dict['shear_xi_plus_binned'][i*9:i*9+9], np.log(omega_m_dx_dict['shear_xi_plus_binned_omch2-2dx'][i*9:i*9+9]), color = '#042333', linewidth=0.4)\n",
    "    ax5[i, 0].plot(theta_dict['shear_xi_plus_binned'][i*9:i*9+9], np.log(omega_m_dx_dict['shear_xi_plus_binned_omch2-1dx'][i*9:i*9+9]), color = '#6b4596', linewidth=0.4)\n",
    "    ax5[i, 0].plot(theta_dict['shear_xi_plus_binned'][i*9:i*9+9], np.log(omega_m_dx_dict['shear_xi_plus_binned'][i*9:i*9+9]), color = '#de7065', linewidth=0.4)\n",
    "    ax5[i, 0].plot(theta_dict['shear_xi_plus_binned'][i*9:i*9+9], np.log(omega_m_dx_dict['shear_xi_plus_binned_omch2+1dx'][i*9:i*9+9]), color = '#eb8055', linewidth=0.4)\n",
    "    ax5[i, 0].plot(theta_dict['shear_xi_plus_binned'][i*9:i*9+9], np.log(omega_m_dx_dict['shear_xi_plus_binned_omch2+2dx'][i*9:i*9+9]), color = '#e8fa5b', linewidth=0.4)\n",
    "\n",
    "    ax5[i, 1].plot(theta_dict['shear_xi_plus_binned'][i*9+9:i*9+18], np.log(omega_m_dx_dict['shear_xi_plus_binned_omch2-2dx'][i*9+9:i*9+18]), color = '#6b4596', linewidth=0.4)\n",
    "    ax5[i, 1].plot(theta_dict['shear_xi_plus_binned'][i*9+9:i*9+18], np.log(omega_m_dx_dict['shear_xi_plus_binned_omch2-1dx'][i*9+9:i*9+18]), color = '#6b4596', linewidth=0.4)\n",
    "    ax5[i, 1].plot(theta_dict['shear_xi_plus_binned'][i*9+9:i*9+18], np.log(omega_m_dx_dict['shear_xi_plus_binned'][i*9+9:i*9+18]), color = '#de7065', linewidth=0.4)\n",
    "    ax5[i, 1].plot(theta_dict['shear_xi_plus_binned'][i*9+9:i*9+18], np.log(omega_m_dx_dict['shear_xi_plus_binned_omch2+1dx'][i*9+9:i*9+18]), color = '#eb8055', linewidth=0.4)\n",
    "    ax5[i, 1].plot(theta_dict['shear_xi_plus_binned'][i*9+9:i*9+18], np.log(omega_m_dx_dict['shear_xi_plus_binned_omch2+2dx'][i*9+9:i*9+18]), color = '#e8fa5b', linewidth=0.4)\n",
    "\n",
    "    ax5[i, 2].plot(theta_dict['shear_xi_plus_binned'][i*9+18:i*9+27], np.log(omega_m_dx_dict['shear_xi_plus_binned_omch2-2dx'][i*9+18:i*9+27]), color = '#6b4596', linewidth=0.4)\n",
    "    ax5[i, 2].plot(theta_dict['shear_xi_plus_binned'][i*9+18:i*9+27], np.log(omega_m_dx_dict['shear_xi_plus_binned_omch2-1dx'][i*9+18:i*9+27]), color = '#6b4596', linewidth=0.4)\n",
    "    ax5[i, 2].plot(theta_dict['shear_xi_plus_binned'][i*9+18:i*9+27], np.log(omega_m_dx_dict['shear_xi_plus_binned'][i*9+18:i*9+27]), color = '#de7065', linewidth=0.4)\n",
    "    ax5[i, 2].plot(theta_dict['shear_xi_plus_binned'][i*9+18:i*9+27], np.log(omega_m_dx_dict['shear_xi_plus_binned_omch2+1dx'][i*9+18:i*9+27]), color = '#eb8055', linewidth=0.4)\n",
    "    ax5[i, 2].plot(theta_dict['shear_xi_plus_binned'][i*9+18:i*9+27], np.log(omega_m_dx_dict['shear_xi_plus_binned_omch2+2dx'][i*9+18:i*9+27]), color = '#e8fa5b', linewidth=0.4)\n",
    "\n",
    "for i, ax in enumerate(ax5.flatten()):\n",
    "    ax.xaxis.set_tick_params(labelbottom=True)\n",
    "    ax.yaxis.set_tick_params(labelleft=True)\n",
    "    ax.set_title(bin_ordering[i])\n",
    "    ax.set_xlabel('$\\Theta$')\n",
    "    ax.set_ylabel(r'$ln(\\xi)$', rotation = 0, labelpad = 15)"
   ]
  },
  {
   "cell_type": "code",
   "execution_count": null,
   "metadata": {},
   "outputs": [],
   "source": [
    "sigma_8_dx_dict = km.get_values(mock_run = 27, vals_to_read = ['shear_xi_plus_binned_sigma_8-2dx', 'shear_xi_plus_binned_sigma_8-1dx', 'shear_xi_plus_binned', 'shear_xi_plus_binned_sigma_8+1dx', 'shear_xi_plus_binned_sigma_8+2dx'],\n",
    "                                mocks_dir = \"/home/ruyi_wsl/kcap_output/kids_stepsize\", mocks_name = \"kids_stepsize\")\n",
    "\n",
    "\n",
    "fig5, ax5 = plt.subplots(5, 3, sharex=True, figsize=(30,45))\n",
    "fig5.suptitle(r\"$\\xi$ at +/- $\\delta \\sigma_8$ deviations vs. $\\Theta$\")\n",
    "for i in range(5):\n",
    "    ax5[i, 0].plot(theta_dict['shear_xi_plus_binned'][i*9:i*9+9], np.log(sigma_8_dx_dict['shear_xi_plus_binned_sigma_8-2dx'][i*9:i*9+9]), color = '#042333', linewidth=0.4)\n",
    "    ax5[i, 0].plot(theta_dict['shear_xi_plus_binned'][i*9:i*9+9], np.log(sigma_8_dx_dict['shear_xi_plus_binned_sigma_8-1dx'][i*9:i*9+9]), color = '#6b4596', linewidth=0.4)\n",
    "    ax5[i, 0].plot(theta_dict['shear_xi_plus_binned'][i*9:i*9+9], np.log(sigma_8_dx_dict['shear_xi_plus_binned'][i*9:i*9+9]), color = '#de7065', linewidth=0.4)\n",
    "    ax5[i, 0].plot(theta_dict['shear_xi_plus_binned'][i*9:i*9+9], np.log(sigma_8_dx_dict['shear_xi_plus_binned_sigma_8+1dx'][i*9:i*9+9]), color = '#eb8055', linewidth=0.4)\n",
    "    ax5[i, 0].plot(theta_dict['shear_xi_plus_binned'][i*9:i*9+9], np.log(sigma_8_dx_dict['shear_xi_plus_binned_sigma_8+2dx'][i*9:i*9+9]), color = '#e8fa5b', linewidth=0.4)\n",
    "\n",
    "    ax5[i, 1].plot(theta_dict['shear_xi_plus_binned'][i*9+9:i*9+18], np.log(sigma_8_dx_dict['shear_xi_plus_binned_sigma_8-2dx'][i*9+9:i*9+18]), color = '#6b4596', linewidth=0.4)\n",
    "    ax5[i, 1].plot(theta_dict['shear_xi_plus_binned'][i*9+9:i*9+18], np.log(sigma_8_dx_dict['shear_xi_plus_binned_sigma_8-1dx'][i*9+9:i*9+18]), color = '#6b4596', linewidth=0.4)\n",
    "    ax5[i, 1].plot(theta_dict['shear_xi_plus_binned'][i*9+9:i*9+18], np.log(sigma_8_dx_dict['shear_xi_plus_binned'][i*9+9:i*9+18]), color = '#de7065', linewidth=0.4)\n",
    "    ax5[i, 1].plot(theta_dict['shear_xi_plus_binned'][i*9+9:i*9+18], np.log(sigma_8_dx_dict['shear_xi_plus_binned_sigma_8+1dx'][i*9+9:i*9+18]), color = '#eb8055', linewidth=0.4)\n",
    "    ax5[i, 1].plot(theta_dict['shear_xi_plus_binned'][i*9+9:i*9+18], np.log(sigma_8_dx_dict['shear_xi_plus_binned_sigma_8+2dx'][i*9+9:i*9+18]), color = '#e8fa5b', linewidth=0.4)\n",
    "\n",
    "    ax5[i, 2].plot(theta_dict['shear_xi_plus_binned'][i*9+18:i*9+27], np.log(sigma_8_dx_dict['shear_xi_plus_binned_sigma_8-2dx'][i*9+18:i*9+27]), color = '#6b4596', linewidth=0.4)\n",
    "    ax5[i, 2].plot(theta_dict['shear_xi_plus_binned'][i*9+18:i*9+27], np.log(sigma_8_dx_dict['shear_xi_plus_binned_sigma_8-1dx'][i*9+18:i*9+27]), color = '#6b4596', linewidth=0.4)\n",
    "    ax5[i, 2].plot(theta_dict['shear_xi_plus_binned'][i*9+18:i*9+27], np.log(sigma_8_dx_dict['shear_xi_plus_binned'][i*9+18:i*9+27]), color = '#de7065', linewidth=0.4)\n",
    "    ax5[i, 2].plot(theta_dict['shear_xi_plus_binned'][i*9+18:i*9+27], np.log(sigma_8_dx_dict['shear_xi_plus_binned_sigma_8+1dx'][i*9+18:i*9+27]), color = '#eb8055', linewidth=0.4)\n",
    "    ax5[i, 2].plot(theta_dict['shear_xi_plus_binned'][i*9+18:i*9+27], np.log(sigma_8_dx_dict['shear_xi_plus_binned_sigma_8+2dx'][i*9+18:i*9+27]), color = '#e8fa5b', linewidth=0.4)\n",
    "\n",
    "for i, ax in enumerate(ax5.flatten()):\n",
    "    ax.xaxis.set_tick_params(labelbottom=True)\n",
    "    ax.yaxis.set_tick_params(labelleft=True)\n",
    "    ax.set_title(bin_ordering[i])\n",
    "    ax.set_xlabel('$\\Theta$')\n",
    "    ax.set_ylabel(r'$ln(\\xi)$', rotation = 0, labelpad = 15)"
   ]
  },
  {
   "cell_type": "code",
   "execution_count": null,
   "metadata": {},
   "outputs": [],
   "source": [
    "sigma_8_dx_dict_2 = km.get_values(mock_run = 8, vals_to_read = ['shear_xi_plus_binned_sigma_8-2dx', 'shear_xi_plus_binned_sigma_8-1dx', 'shear_xi_plus_binned', 'shear_xi_plus_binned_sigma_8+1dx', 'shear_xi_plus_binned_sigma_8+2dx'],\n",
    "                                mocks_dir = \"/home/ruyi_wsl/kcap_output/kids_stepsize\", mocks_name = \"kids_stepsize\")\n",
    "\n",
    "\n",
    "fig6, ax6 = plt.subplots(5, 3, sharex=True, figsize=(30,45))\n",
    "fig6.suptitle(r\"$\\xi$ at +/- $\\delta \\sigma_8$ deviations vs. $\\Theta$\")\n",
    "for i in range(5):\n",
    "    ax6[i, 0].plot(theta_dict['shear_xi_plus_binned'][i*9:i*9+9], np.log(sigma_8_dx_dict_2['shear_xi_plus_binned_sigma_8-2dx'][i*9:i*9+9]), color = '#042333', linewidth=0.1)\n",
    "    ax6[i, 0].plot(theta_dict['shear_xi_plus_binned'][i*9:i*9+9], np.log(sigma_8_dx_dict_2['shear_xi_plus_binned_sigma_8-1dx'][i*9:i*9+9]), color = '#6b4596', linewidth=0.1)\n",
    "    ax6[i, 0].plot(theta_dict['shear_xi_plus_binned'][i*9:i*9+9], np.log(sigma_8_dx_dict_2['shear_xi_plus_binned'][i*9:i*9+9]), color = '#de7065', linewidth=0.1)\n",
    "    ax6[i, 0].plot(theta_dict['shear_xi_plus_binned'][i*9:i*9+9], np.log(sigma_8_dx_dict_2['shear_xi_plus_binned_sigma_8+1dx'][i*9:i*9+9]), color = '#eb8055', linewidth=0.1)\n",
    "    ax6[i, 0].plot(theta_dict['shear_xi_plus_binned'][i*9:i*9+9], np.log(sigma_8_dx_dict_2['shear_xi_plus_binned_sigma_8+2dx'][i*9:i*9+9]), color = '#e8fa5b', linewidth=0.1)\n",
    "\n",
    "    ax6[i, 1].plot(theta_dict['shear_xi_plus_binned'][i*9+9:i*9+18], np.log(sigma_8_dx_dict_2['shear_xi_plus_binned_sigma_8-2dx'][i*9+9:i*9+18]), color = '#6b4596', linewidth=0.1)\n",
    "    ax6[i, 1].plot(theta_dict['shear_xi_plus_binned'][i*9+9:i*9+18], np.log(sigma_8_dx_dict_2['shear_xi_plus_binned_sigma_8-1dx'][i*9+9:i*9+18]), color = '#6b4596', linewidth=0.1)\n",
    "    ax6[i, 1].plot(theta_dict['shear_xi_plus_binned'][i*9+9:i*9+18], np.log(sigma_8_dx_dict_2['shear_xi_plus_binned'][i*9+9:i*9+18]), color = '#de7065', linewidth=0.1)\n",
    "    ax6[i, 1].plot(theta_dict['shear_xi_plus_binned'][i*9+9:i*9+18], np.log(sigma_8_dx_dict_2['shear_xi_plus_binned_sigma_8+1dx'][i*9+9:i*9+18]), color = '#eb8055', linewidth=0.1)\n",
    "    ax6[i, 1].plot(theta_dict['shear_xi_plus_binned'][i*9+9:i*9+18], np.log(sigma_8_dx_dict_2['shear_xi_plus_binned_sigma_8+2dx'][i*9+9:i*9+18]), color = '#e8fa5b', linewidth=0.1)\n",
    "\n",
    "    ax6[i, 2].plot(theta_dict['shear_xi_plus_binned'][i*9+18:i*9+27], np.log(sigma_8_dx_dict_2['shear_xi_plus_binned_sigma_8-2dx'][i*9+18:i*9+27]), color = '#6b4596', linewidth=0.1)\n",
    "    ax6[i, 2].plot(theta_dict['shear_xi_plus_binned'][i*9+18:i*9+27], np.log(sigma_8_dx_dict_2['shear_xi_plus_binned_sigma_8-1dx'][i*9+18:i*9+27]), color = '#6b4596', linewidth=0.1)\n",
    "    ax6[i, 2].plot(theta_dict['shear_xi_plus_binned'][i*9+18:i*9+27], np.log(sigma_8_dx_dict_2['shear_xi_plus_binned'][i*9+18:i*9+27]), color = '#de7065', linewidth=0.1)\n",
    "    ax6[i, 2].plot(theta_dict['shear_xi_plus_binned'][i*9+18:i*9+27], np.log(sigma_8_dx_dict_2['shear_xi_plus_binned_sigma_8+1dx'][i*9+18:i*9+27]), color = '#eb8055', linewidth=0.1)\n",
    "    ax6[i, 2].plot(theta_dict['shear_xi_plus_binned'][i*9+18:i*9+27], np.log(sigma_8_dx_dict_2['shear_xi_plus_binned_sigma_8+2dx'][i*9+18:i*9+27]), color = '#e8fa5b', linewidth=0.1)\n",
    "\n",
    "for i, ax in enumerate(ax6.flatten()):\n",
    "    ax.xaxis.set_tick_params(labelbottom=True)\n",
    "    ax.yaxis.set_tick_params(labelleft=True)\n",
    "    ax.set_title(bin_ordering[i])\n",
    "    ax.set_xlabel('$\\Theta$')\n",
    "    ax.set_ylabel(r'$ln(\\xi)$', rotation = 0, labelpad = 15)"
   ]
  },
  {
   "cell_type": "code",
   "execution_count": null,
   "metadata": {},
   "outputs": [],
   "source": []
  }
 ],
 "metadata": {
  "interpreter": {
   "hash": "033d9ef514a3a275bdde5268b9a422ce7e57aaf0edcb69a446d6b6788ea5d300"
  },
  "kernelspec": {
   "display_name": "Python 3.9.1 64-bit ('kcap_env': conda)",
   "name": "python3"
  },
  "language_info": {
   "codemirror_mode": {
    "name": "ipython",
    "version": 3
   },
   "file_extension": ".py",
   "mimetype": "text/x-python",
   "name": "python",
   "nbconvert_exporter": "python",
   "pygments_lexer": "ipython3",
   "version": "3.9.1"
  },
  "orig_nbformat": 2
 },
 "nbformat": 4,
 "nbformat_minor": 2
}