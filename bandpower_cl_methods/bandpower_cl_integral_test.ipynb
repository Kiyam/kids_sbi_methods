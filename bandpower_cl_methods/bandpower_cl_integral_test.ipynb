{
 "cells": [
  {
   "cell_type": "code",
   "execution_count": 2,
   "metadata": {},
   "outputs": [],
   "source": [
    "import numpy as np"
   ]
  },
  {
   "cell_type": "code",
   "execution_count": 3,
   "metadata": {},
   "outputs": [],
   "source": [
    "def exp_func(x):\n",
    "    return np.exp(-x**2)\n",
    "\n",
    "a = -1; b = 1; n = 100"
   ]
  },
  {
   "cell_type": "code",
   "execution_count": 5,
   "metadata": {},
   "outputs": [],
   "source": [
    "def calculate_integral(f, a, b, n):\n",
    "    '''Calculates the integral based on the composite trapezoidal rule\n",
    "    relying on the Riemann Sums.\n",
    "    :param function f: the integrand function\n",
    "    :param int a: lower bound of the integral\n",
    "    :param int b: upper bound of theintergal\n",
    "    :param int n: number of trapezoids of equal width\n",
    "    :return float: the integral of the function f between a and b\n",
    "    '''\n",
    "    w = (b - a)/n\n",
    "    result = 0.5*f(a) + sum([f(a + i*w) for i in range(1, n)]) + 0.5*f(b)\n",
    "    result *= w\n",
    "    return result"
   ]
  },
  {
   "cell_type": "code",
   "execution_count": 7,
   "metadata": {},
   "outputs": [
    {
     "data": {
      "text/plain": [
       "1.4935992143787018"
      ]
     },
     "execution_count": 7,
     "metadata": {},
     "output_type": "execute_result"
    }
   ],
   "source": [
    "calculate_integral(exp_func, a, b, n)"
   ]
  },
  {
   "cell_type": "code",
   "execution_count": 4,
   "metadata": {},
   "outputs": [],
   "source": [
    "x_vals = np.genfromtxt('test_files/ell.txt')\n",
    "y_vals = np.genfromtxt('test_files/bin_1_1.txt')"
   ]
  },
  {
   "cell_type": "code",
   "execution_count": 5,
   "metadata": {},
   "outputs": [],
   "source": [
    "diff = [x_vals[i+1] - x_vals[i] for i in range(len(x_vals)-1)]"
   ]
  },
  {
   "cell_type": "code",
   "execution_count": 13,
   "metadata": {},
   "outputs": [
    {
     "name": "stdout",
     "output_type": "stream",
     "text": [
      "595.9830038696382\n"
     ]
    }
   ],
   "source": [
    "print(diff[398])"
   ]
  },
  {
   "cell_type": "code",
   "execution_count": 11,
   "metadata": {},
   "outputs": [
    {
     "data": {
      "text/plain": [
       "595.9830038696382"
      ]
     },
     "execution_count": 11,
     "metadata": {},
     "output_type": "execute_result"
    }
   ],
   "source": [
    "x_vals[399] - x_vals[398]"
   ]
  },
  {
   "cell_type": "code",
   "execution_count": 22,
   "metadata": {},
   "outputs": [],
   "source": [
    "def integral_from_vals(x, y):\n",
    "    '''Calculates the integral based on the composite trapezoidal rule\n",
    "    relying on the Riemann Sums.\n",
    "    :param function f: the integrand function\n",
    "    :param int a: lower bound of the integral\n",
    "    :param int b: upper bound of theintergal\n",
    "    :param int n: number of trapezoids of equal width\n",
    "    :return float: the integral of the function f between a and b\n",
    "    '''\n",
    "    num_trapz = len(x) - 1\n",
    "    widths = np.array([x[i+1] - x[i] for i in range(num_trapz)])\n",
    "    trapz_heights = np.array([y[i] + y[i+1] for i in range(num_trapz)])\n",
    "    trapz_areas = 0.5 * widths * trapz_heights\n",
    "    return np.sum(trapz_areas)"
   ]
  },
  {
   "cell_type": "code",
   "execution_count": 23,
   "metadata": {},
   "outputs": [
    {
     "data": {
      "text/plain": [
       "1.1353937615726195e-07"
      ]
     },
     "execution_count": 23,
     "metadata": {},
     "output_type": "execute_result"
    }
   ],
   "source": [
    "integral_from_vals(x_vals, y_vals)"
   ]
  },
  {
   "cell_type": "code",
   "execution_count": 24,
   "metadata": {},
   "outputs": [],
   "source": [
    "def bandpower_integral(x, y):\n",
    "    '''Calculates the integral based on the composite trapezoidal rule\n",
    "    relying on the Riemann Sums.\n",
    "    :param function f: the integrand function\n",
    "    :param int a: lower bound of the integral\n",
    "    :param int b: upper bound of theintergal\n",
    "    :param int n: number of trapezoids of equal width\n",
    "    :return float: the integral of the function f between a and b\n",
    "    '''\n",
    "    num_trapz = len(x) - 1\n",
    "    widths = np.array([x[i+1] - x[i] for i in range(num_trapz)])\n",
    "    trapz_heights = np.array([y[i] + y[i+1] for i in range(num_trapz)])\n",
    "    trapz_areas = 0.5 * widths * trapz_heights\n",
    "    return np.sum(trapz_areas)/(x[-1] - x[0])"
   ]
  },
  {
   "cell_type": "code",
   "execution_count": 25,
   "metadata": {},
   "outputs": [
    {
     "data": {
      "text/plain": [
       "1.2013362351089734e-09"
      ]
     },
     "execution_count": 25,
     "metadata": {},
     "output_type": "execute_result"
    }
   ],
   "source": [
    "bandpower_integral(x_vals[:80], y_vals[:80])"
   ]
  },
  {
   "cell_type": "code",
   "execution_count": 69,
   "metadata": {},
   "outputs": [],
   "source": [
    "def average_bands(l, cls, n):\n",
    "    cls_per_band = len(l)//n\n",
    "    assert len(l)%n == 0\n",
    "    bandpowers = np.zeros(n)\n",
    "    for i in range(n):\n",
    "        lower = i * cls_per_band\n",
    "        print(lower)\n",
    "        upper = i * cls_per_band + cls_per_band\n",
    "        print(upper)\n",
    "        bandpowers[i] = bandpower_integral(l[lower:upper], cls[lower:upper])\n",
    "    \n",
    "    return bandpowers\n",
    "    "
   ]
  },
  {
   "cell_type": "code",
   "execution_count": 70,
   "metadata": {},
   "outputs": [
    {
     "name": "stdout",
     "output_type": "stream",
     "text": [
      "0\n",
      "50\n",
      "50\n",
      "100\n",
      "100\n",
      "150\n",
      "150\n",
      "200\n",
      "200\n",
      "250\n",
      "250\n",
      "300\n",
      "300\n",
      "350\n",
      "350\n",
      "400\n"
     ]
    },
    {
     "data": {
      "text/plain": [
       "array([1.81767597e-09, 5.51724598e-10, 1.66406255e-10, 5.13819785e-11,\n",
       "       1.18115716e-11, 1.90561214e-12, 2.36616756e-13, 2.56337090e-14])"
      ]
     },
     "execution_count": 70,
     "metadata": {},
     "output_type": "execute_result"
    }
   ],
   "source": [
    "average_bands(x_vals, y_vals, 8)"
   ]
  }
 ],
 "metadata": {
  "interpreter": {
   "hash": "01be924fe2aea4addbff86d278f5a467fa1e70dcc9b0a023e13e2c00a92b8b3c"
  },
  "kernelspec": {
   "display_name": "Python 3.7.10 ('cosmology_env')",
   "language": "python",
   "name": "python3"
  },
  "language_info": {
   "codemirror_mode": {
    "name": "ipython",
    "version": 3
   },
   "file_extension": ".py",
   "mimetype": "text/x-python",
   "name": "python",
   "nbconvert_exporter": "python",
   "pygments_lexer": "ipython3",
   "version": "3.7.10"
  },
  "orig_nbformat": 4
 },
 "nbformat": 4,
 "nbformat_minor": 2
}
