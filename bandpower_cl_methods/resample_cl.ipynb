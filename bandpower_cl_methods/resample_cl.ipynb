{
 "cells": [
  {
   "cell_type": "code",
   "execution_count": 19,
   "metadata": {},
   "outputs": [],
   "source": [
    "import numpy as np\n",
    "from scipy.stats import wishart"
   ]
  },
  {
   "cell_type": "code",
   "execution_count": 20,
   "metadata": {},
   "outputs": [],
   "source": [
    "files_root = '/home/ruyi/cosmology/kcap_methods/tests/test_files/bandpower_cls/'"
   ]
  },
  {
   "cell_type": "code",
   "execution_count": 21,
   "metadata": {},
   "outputs": [],
   "source": [
    "bin_order = ['bin_1_1', 'bin_2_1', 'bin_3_1', 'bin_4_1', 'bin_5_1',\n",
    "             'bin_2_2', 'bin_3_2', 'bin_4_2', 'bin_5_2',\n",
    "             'bin_3_3', 'bin_4_3', 'bin_5_3',\n",
    "             'bin_4_4', 'bin_5_4',\n",
    "             'bin_5_5']\n",
    "\n",
    "ell = np.genfromtxt(files_root + 'ell.txt')"
   ]
  },
  {
   "cell_type": "code",
   "execution_count": 22,
   "metadata": {},
   "outputs": [],
   "source": [
    "l_mode = 0\n",
    "num_tom = 5\n",
    "cls = np.zeros((num_tom, num_tom))\n",
    "\n",
    "for i in range(num_tom):\n",
    "    for j in range(num_tom):\n",
    "        if j > i:\n",
    "            cl = np.genfromtxt(files_root + 'bin_%s_%s.txt' %(j+1, i+1))[l_mode]\n",
    "        else:\n",
    "            cl = np.genfromtxt(files_root + 'bin_%s_%s.txt' %(i+1, j+1))[l_mode]\n",
    "        cls[i, j] = cl"
   ]
  },
  {
   "cell_type": "code",
   "execution_count": 23,
   "metadata": {},
   "outputs": [],
   "source": [
    "norm = 2*ell[l_mode] + 1\n",
    "cls_resampled = wishart.rvs(df = norm, scale = cls / norm)"
   ]
  },
  {
   "cell_type": "code",
   "execution_count": 24,
   "metadata": {},
   "outputs": [],
   "source": [
    "cl_binned = {}\n",
    "\n",
    "for i in range(num_tom):\n",
    "    for j in range(num_tom):\n",
    "        if j <= i:\n",
    "            cl_binned['bin_%s_%s' %(i+1, j+1)] = cls_resampled[i, j]\n",
    "        else:\n",
    "            pass"
   ]
  },
  {
   "cell_type": "markdown",
   "metadata": {},
   "source": [
    "To calculate the covariance, follow the instructions on the joachimi and bridlle paper page 9, just set delta l = 1, and the shape noise I can get from the kids methodology paper. Same with the galaxy number density, but have to convert from arcmins to steradians. Then the survey area is also on the kids methodology paper. Use those values, plug it all in and then have a covariance per l. To get the bandpower covariance just sum it up per l and propagate the errors.\n",
    "\n",
    "Then for the final big combined covariance you would just have a non zero diagonal with the squares of each covariance, but lots and lots of 0 off diagonal terms as the vector from 1 bin pair doesn't affect the signal of another bin pair, so it looks something like\n",
    "\n",
    "A 0 0 0 0 0 \\\n",
    "0 B 0 0 0 0 \\\n",
    "0 0 C 0 0 0 \\\n",
    "0 0 0 D 0 0 \\\n",
    "0 0 0 0 E 0 \\\n",
    "0 0 0 0 0 F"
   ]
  },
  {
   "cell_type": "code",
   "execution_count": 25,
   "metadata": {},
   "outputs": [],
   "source": [
    "ellip_disp = np.array([0.27, 0.26, 0.27, 0.25, 0.27])\n",
    "n_eff = np.array([0.62, 1.18, 1.85, 1.26, 1.31]) * (60 **2) * (180**2) / (np.pi**2)#in steradian converted from arcmin"
   ]
  },
  {
   "cell_type": "code",
   "execution_count": 26,
   "metadata": {},
   "outputs": [],
   "source": [
    "def get_cls(l_mode_index = 0, num_tom = 5, files_root = files_root):\n",
    "    ell = np.genfromtxt(files_root + 'ell.txt')\n",
    "    cls = np.zeros((num_tom, num_tom))\n",
    "\n",
    "    for i in range(num_tom):\n",
    "        for j in range(num_tom):\n",
    "            if j > i:\n",
    "                cl = np.genfromtxt(files_root + 'bin_%s_%s.txt' %(j+1, i+1))[l_mode_index]\n",
    "            else:\n",
    "                cl = np.genfromtxt(files_root + 'bin_%s_%s.txt' %(i+1, j+1))[l_mode_index]\n",
    "            cls[i, j] = cl\n",
    "    \n",
    "    return ell, cls\n",
    "\n",
    "def resample_cls(ell, cls, l_mode_index):\n",
    "    norm = 2*ell[l_mode_index] + 1\n",
    "    cls_resampled = wishart.rvs(df = norm, scale = cls / norm)\n",
    "    \n",
    "    return cls_resampled\n",
    "\n",
    "def bin_cls(cls, num_tom):\n",
    "    cl_binned = {}\n",
    "\n",
    "    for i in range(num_tom):\n",
    "        for j in range(num_tom):\n",
    "            if j <= i:\n",
    "                cl_binned['bin_%s_%s' %(i+1, j+1)] = cls[i, j]\n",
    "            else:\n",
    "                pass\n",
    "    \n",
    "    return cl_binned\n",
    "\n",
    "def add_noise(cls, bin_1, bin_2, \n",
    "              ellip_disp = np.array([0.27, 0.26, 0.27, 0.25, 0.27]), \n",
    "              gal_num = np.array([0.62, 1.18, 1.85, 1.26, 1.31]) * (60 **2) * (180**2) / (np.pi**2)):\n",
    "    try:\n",
    "        cl = cls['bin_{}_{}'.format(bin_1,bin_2)]\n",
    "    except:\n",
    "        cl = cls['bin_{}_{}'.format(bin_2,bin_1)]\n",
    "    \n",
    "    if bin_1 == bin_2:\n",
    "        cl += (ellip_disp[int(bin_1)-1]**2) / (2*gal_num[int(bin_1)-1])\n",
    "\n",
    "    return cl\n",
    "        \n",
    "def cls_calc_covariance(cls, ell, l_mode_index, A):\n",
    "    pre_factor = 2 * np.pi / (A * ell[l_mode_index])\n",
    "    bin_keys = list(cls.keys())\n",
    "    \n",
    "    cl_ref = [[\"null\" for _ in range(len(bin_keys))] for _ in range(len(bin_keys))]\n",
    "    for i, bin_1 in enumerate(bin_keys):\n",
    "        for j, bin_2 in enumerate(bin_keys):\n",
    "            cl_ref[i][j] = bin_1.split(\"_\")[-2] + bin_1.split(\"_\")[-1] + bin_2.split(\"_\")[-2] + bin_2.split(\"_\")[-1]\n",
    "            \n",
    "    cl_cov = np.zeros((len(cl_binned), len(cl_binned)))\n",
    "\n",
    "    for row in range(len(cl_binned)):\n",
    "        for col in range(len(cl_binned)):\n",
    "            i = cl_ref[row][col][0]\n",
    "            j = cl_ref[row][col][1]\n",
    "            k = cl_ref[row][col][2]\n",
    "            l = cl_ref[row][col][3]\n",
    "            \n",
    "            cl_cov[row][col] = add_noise(cl_binned, i, k) * add_noise(cl_binned, j, l) + add_noise(cl_binned, i, l) * add_noise(cl_binned, j, k)\n",
    "    \n",
    "    cl_cov *= pre_factor\n",
    "    \n",
    "    return cl_cov"
   ]
  },
  {
   "cell_type": "code",
   "execution_count": 27,
   "metadata": {},
   "outputs": [],
   "source": [
    "ell, theory_cls = get_cls(l_mode_index = 300, num_tom = 5, files_root = files_root)\n",
    "one_draw_cls = resample_cls(ell = ell, cls = theory_cls, l_mode_index = 300)\n",
    "cl_binned = bin_cls(cls  = one_draw_cls, num_tom = 5)\n",
    "cl_cov = cls_calc_covariance(cls = cl_binned, ell = ell, l_mode_index = 300, A = 50)"
   ]
  },
  {
   "cell_type": "code",
   "execution_count": 28,
   "metadata": {},
   "outputs": [
    {
     "data": {
      "text/plain": [
       "array([[1.51179818e-21, 1.94951886e-25, 2.51397563e-29, 1.16859410e-25,\n",
       "        1.50694468e-29, 9.03303222e-30, 7.61964687e-26, 9.82581238e-30,\n",
       "        5.88985652e-30, 3.84039479e-30, 8.07921703e-26, 1.04184449e-29,\n",
       "        6.24509639e-30, 4.07202375e-30, 4.31762314e-30],\n",
       "       [1.94951886e-25, 3.68979672e-22, 9.51625441e-26, 9.39385562e-25,\n",
       "        2.86426319e-26, 1.45224625e-28, 1.07425605e-24, 1.87355527e-26,\n",
       "        1.30383569e-28, 1.08287130e-28, 1.11194228e-24, 1.98620703e-26,\n",
       "        1.36152234e-28, 1.13452154e-28, 1.18846299e-28],\n",
       "       [2.51397563e-29, 9.51625441e-26, 3.60222657e-22, 2.42272441e-28,\n",
       "        9.17083748e-25, 2.33478540e-27, 2.77057199e-28, 1.04875591e-24,\n",
       "        2.67000695e-27, 3.05335862e-27, 2.86776678e-28, 1.08554745e-24,\n",
       "        2.76367380e-27, 3.16047388e-27, 3.27134686e-27],\n",
       "       [1.16859410e-25, 9.39385562e-25, 2.42272441e-28, 2.55268446e-22,\n",
       "        3.29904084e-26, 3.94636267e-26, 2.83725561e-24, 4.13219869e-28,\n",
       "        1.30851550e-26, 2.86001977e-28, 3.09142526e-24, 4.48851556e-28,\n",
       "        1.38807901e-26, 3.07437367e-28, 3.30418051e-28],\n",
       "       [1.50694468e-29, 2.86426319e-26, 9.17083748e-25, 3.29904084e-26,\n",
       "        1.24606243e-22, 6.34459199e-25, 4.48911846e-28, 1.38629305e-24,\n",
       "        3.66302421e-25, 8.06436187e-27, 4.84600984e-28, 1.51040851e-24,\n",
       "        3.79344892e-25, 8.56702999e-27, 9.09504174e-27],\n",
       "       [9.03303222e-30, 1.45224625e-28, 2.33478540e-27, 3.94636267e-26,\n",
       "        6.34459199e-25, 1.72409197e-22, 4.38629543e-28, 7.05187465e-27,\n",
       "        1.91629036e-24, 2.12991464e-26, 4.77923272e-28, 7.68360240e-27,\n",
       "        2.08795730e-24, 2.32071868e-26, 2.52861551e-26],\n",
       "       [7.61964687e-26, 1.07425605e-24, 2.77057199e-28, 2.83725561e-24,\n",
       "        4.48911846e-28, 4.38629543e-28, 3.23905225e-22, 4.18229027e-26,\n",
       "        2.51803199e-26, 3.26504351e-26, 5.95101543e-24, 8.24814041e-28,\n",
       "        6.11629070e-28, 1.76097924e-26, 6.36057505e-28],\n",
       "       [9.82581238e-30, 1.87355527e-26, 1.04875591e-24, 4.13219869e-28,\n",
       "        1.38629305e-24, 7.05187465e-27, 4.18229027e-26, 1.58110513e-22,\n",
       "        4.06558727e-25, 9.20640223e-25, 8.23447852e-28, 2.90646917e-24,\n",
       "        1.15691337e-26, 4.84925983e-25, 1.75080312e-26],\n",
       "       [5.88985652e-30, 1.30383569e-28, 2.67000695e-27, 1.30851550e-26,\n",
       "        3.66302421e-25, 1.91629036e-24, 2.51803199e-26, 4.06558727e-25,\n",
       "        1.09394009e-22, 2.43154403e-24, 6.15814582e-28, 1.17888950e-26,\n",
       "        2.02127121e-24, 1.34702147e-24, 4.86760596e-26],\n",
       "       [3.84039479e-30, 1.08287130e-28, 3.05335862e-27, 2.86001977e-28,\n",
       "        8.06436187e-27, 2.12991464e-26, 3.26504351e-26, 9.20640223e-25,\n",
       "        2.43154403e-24, 2.77588887e-22, 5.99876641e-28, 1.69146464e-26,\n",
       "        4.46740283e-26, 5.10005727e-24, 9.37018207e-26],\n",
       "       [8.07921703e-26, 1.11194228e-24, 2.86776678e-28, 3.09142526e-24,\n",
       "        4.84600984e-28, 4.77923272e-28, 5.95101543e-24, 8.23447852e-28,\n",
       "        6.15814582e-28, 5.99876641e-28, 3.65313881e-22, 4.71679795e-26,\n",
       "        2.84033462e-26, 1.87302930e-26, 3.90455573e-26],\n",
       "       [1.04184449e-29, 1.98620703e-26, 1.08554745e-24, 4.48851556e-28,\n",
       "        1.51040851e-24, 7.68360240e-27, 8.24814041e-28, 2.90646917e-24,\n",
       "        1.17888950e-26, 1.69146464e-26, 4.71679795e-26, 1.78323574e-22,\n",
       "        4.58533822e-25, 5.27922321e-25, 1.07476263e-24],\n",
       "       [6.24509639e-30, 1.36152234e-28, 2.76367380e-27, 1.38807901e-26,\n",
       "        3.79344892e-25, 2.08795730e-24, 6.11629070e-28, 1.15691337e-26,\n",
       "        2.02127121e-24, 4.46740283e-26, 2.84033462e-26, 4.58533822e-25,\n",
       "        1.23379778e-22, 1.39553664e-24, 2.98806925e-24],\n",
       "       [4.07202375e-30, 1.13452154e-28, 3.16047388e-27, 3.07437367e-28,\n",
       "        8.56702999e-27, 2.32071868e-26, 1.76097924e-26, 4.84925983e-25,\n",
       "        1.34702147e-24, 5.10005727e-24, 1.87302930e-26, 5.27922321e-25,\n",
       "        1.39553664e-24, 1.56585039e-22, 5.75205823e-24],\n",
       "       [4.31762314e-30, 1.18846299e-28, 3.27134686e-27, 3.30418051e-28,\n",
       "        9.09504174e-27, 2.52861551e-26, 6.36057505e-28, 1.75080312e-26,\n",
       "        4.86760596e-26, 9.37018207e-26, 3.90455573e-26, 1.07476263e-24,\n",
       "        2.98806925e-24, 5.75205823e-24, 3.53100651e-22]])"
      ]
     },
     "execution_count": 28,
     "metadata": {},
     "output_type": "execute_result"
    }
   ],
   "source": [
    "cl_cov"
   ]
  },
  {
   "cell_type": "code",
   "execution_count": 29,
   "metadata": {},
   "outputs": [],
   "source": [
    "bin_combinations = [\"bin_\" for _ in range(5**2)]"
   ]
  }
 ],
 "metadata": {
  "interpreter": {
   "hash": "01be924fe2aea4addbff86d278f5a467fa1e70dcc9b0a023e13e2c00a92b8b3c"
  },
  "kernelspec": {
   "display_name": "Python 3.7.10 ('cosmology_env')",
   "language": "python",
   "name": "python3"
  },
  "language_info": {
   "codemirror_mode": {
    "name": "ipython",
    "version": 3
   },
   "file_extension": ".py",
   "mimetype": "text/x-python",
   "name": "python",
   "nbconvert_exporter": "python",
   "pygments_lexer": "ipython3",
   "version": "3.7.10"
  },
  "orig_nbformat": 4
 },
 "nbformat": 4,
 "nbformat_minor": 2
}
