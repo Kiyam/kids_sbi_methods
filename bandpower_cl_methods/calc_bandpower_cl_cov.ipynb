{
 "cells": [
  {
   "cell_type": "code",
   "execution_count": 8,
   "metadata": {},
   "outputs": [],
   "source": [
    "import numpy as np\n",
    "from scipy.stats import wishart"
   ]
  },
  {
   "cell_type": "code",
   "execution_count": 9,
   "metadata": {},
   "outputs": [],
   "source": [
    "files_root = '/home/ruyi/cosmology/kcap_methods/bandpower_cl_methods/glass_fiducial_0/shear_cl/'"
   ]
  },
  {
   "cell_type": "code",
   "execution_count": 10,
   "metadata": {},
   "outputs": [],
   "source": [
    "# bin_order = ['bin_1_1', 'bin_2_1', 'bin_3_1', 'bin_4_1', 'bin_5_1',\n",
    "#              'bin_2_2', 'bin_3_2', 'bin_4_2', 'bin_5_2',\n",
    "#              'bin_3_3', 'bin_4_3', 'bin_5_3',\n",
    "#              'bin_4_4', 'bin_5_4',\n",
    "#              'bin_5_5']\n",
    "\n",
    "bin_order = []\n",
    "for i in range(5):\n",
    "    for j in range(i+1):\n",
    "        bin_order.append('bin_%d_%d' %(i+1, j+1))\n",
    "\n",
    "ell = np.genfromtxt(files_root + 'ell.txt')[1:]"
   ]
  },
  {
   "cell_type": "markdown",
   "metadata": {},
   "source": [
    "To calculate the covariance, follow the instructions on the joachimi and bridlle paper page 9, just set delta l = 1, and the shape noise I can get from the kids methodology paper. Same with the galaxy number density, but have to convert from arcmins to steradians. Then the survey area is also on the kids methodology paper. Use those values, plug it all in and then have a covariance per l. To get the bandpower covariance just sum it up per l and propagate the errors.\n",
    "\n",
    "Then for the final big combined covariance you would just have a non zero diagonal with the squares of each covariance, but lots and lots of 0 off diagonal terms as the vector from 1 bin pair doesn't affect the signal of another bin pair, so it looks something like\n",
    "\n",
    "A 0 0 0 0 0 \\\n",
    "0 B 0 0 0 0 \\\n",
    "0 0 C 0 0 0 \\\n",
    "0 0 0 D 0 0 \\\n",
    "0 0 0 0 E 0 \\\n",
    "0 0 0 0 0 F"
   ]
  },
  {
   "cell_type": "code",
   "execution_count": 11,
   "metadata": {},
   "outputs": [],
   "source": [
    "ellip_disp = np.array([0.27, 0.26, 0.27, 0.25, 0.27])\n",
    "n_eff = np.array([0.62, 1.18, 1.85, 1.26, 1.31]) * (60 **2) * (180**2) / (np.pi**2)#in steradian converted from arcmin"
   ]
  },
  {
   "cell_type": "code",
   "execution_count": 12,
   "metadata": {},
   "outputs": [],
   "source": [
    "def get_cls(l_mode_index = 0, num_tom = 5, files_root = files_root):\n",
    "    ell = np.genfromtxt(files_root + 'ell.txt')[1:]\n",
    "    cls = np.zeros((num_tom, num_tom))\n",
    "\n",
    "    for i in range(num_tom):\n",
    "        for j in range(num_tom):\n",
    "            if j > i:\n",
    "                cl = np.genfromtxt(files_root + 'bin_%s_%s.txt' %(j+1, i+1))[l_mode_index]\n",
    "            else:\n",
    "                cl = np.genfromtxt(files_root + 'bin_%s_%s.txt' %(i+1, j+1))[l_mode_index]\n",
    "            cls[i, j] = cl\n",
    "    \n",
    "    return ell, cls\n",
    "\n",
    "def resample_cls(ell, cls, l_mode_index):\n",
    "    norm = 2*ell[l_mode_index] + 1\n",
    "    cls_resampled = wishart.rvs(df = norm, scale = cls / norm)\n",
    "    \n",
    "    return cls_resampled\n",
    "\n",
    "def bin_cls(cls, num_tom):\n",
    "    cl_binned = {}\n",
    "\n",
    "    for i in range(num_tom):\n",
    "        for j in range(num_tom):\n",
    "            if j <= i:\n",
    "                cl_binned['bin_%s_%s' %(i+1, j+1)] = cls[i, j]\n",
    "            else:\n",
    "                pass\n",
    "    \n",
    "    return cl_binned\n",
    "\n",
    "def add_noise(cls, bin_1, bin_2, \n",
    "              ellip_disp = np.array([0.27, 0.26, 0.27, 0.25, 0.27]), \n",
    "              gal_num = np.array([0.62, 1.18, 1.85, 1.26, 1.31]) * (60 **2) * (180**2) / (np.pi**2)):\n",
    "    try:\n",
    "        cl = cls['bin_{}_{}'.format(bin_1,bin_2)]\n",
    "    except:\n",
    "        cl = cls['bin_{}_{}'.format(bin_2,bin_1)]\n",
    "    \n",
    "    if bin_1 == bin_2:\n",
    "        cl += (ellip_disp[int(bin_1)-1]**2) / (2*gal_num[int(bin_1)-1])\n",
    "\n",
    "    return cl\n",
    "        \n",
    "def cls_calc_covariance(cls, ell, l_mode_index, A = 1006):\n",
    "    pre_factor = 2 * np.pi / (A * ell[l_mode_index])\n",
    "    bin_keys = list(cls.keys())\n",
    "    \n",
    "    cl_ref = [[\"null\" for _ in range(len(bin_keys))] for _ in range(len(bin_keys))]\n",
    "    for i, bin_1 in enumerate(bin_keys):\n",
    "        for j, bin_2 in enumerate(bin_keys):\n",
    "            cl_ref[i][j] = bin_1.split(\"_\")[-2] + bin_1.split(\"_\")[-1] + bin_2.split(\"_\")[-2] + bin_2.split(\"_\")[-1]\n",
    "            \n",
    "    cl_cov = np.zeros((len(cls), len(cls)))\n",
    "\n",
    "    for row in range(len(cls)):\n",
    "        for col in range(len(cls)):\n",
    "            i = cl_ref[row][col][0]\n",
    "            j = cl_ref[row][col][1]\n",
    "            k = cl_ref[row][col][2]\n",
    "            l = cl_ref[row][col][3]\n",
    "            \n",
    "            cl_cov[row][col] = add_noise(cls, i, k) * add_noise(cls, j, l) + add_noise(cls, i, l) * add_noise(cls, j, k)\n",
    "    \n",
    "    cl_cov *= pre_factor\n",
    "    \n",
    "    return cl_cov\n",
    "\n",
    "def bandpower_cov(files_root, ell, num_tom = 5, num_bands = 8):\n",
    "    total_num_ell = len(ell)\n",
    "    cl_per_band = int(total_num_ell/num_bands)\n",
    "    num_pairs = np.sum(np.arange(num_tom+1))\n",
    "    temp_cl_cov = np.zeros((total_num_ell, num_pairs, num_pairs))\n",
    "    \n",
    "    for i in range(total_num_ell):\n",
    "        _, theory_cls = get_cls(l_mode_index = 300, num_tom = 5, files_root = files_root)\n",
    "        cl_binned = bin_cls(cls = theory_cls, num_tom = 5)\n",
    "        temp_cl_cov[i] += cls_calc_covariance(cls = cl_binned, ell = ell, l_mode_index = i)\n",
    "    \n",
    "    combined_bandpower_cov = np.zeros((120,120))\n",
    "    for i in range(num_bands):\n",
    "        bandpower_cov = np.zeros((num_pairs, num_pairs))\n",
    "        for j in range(cl_per_band):\n",
    "            bandpower_cov += temp_cl_cov[i*num_pairs+j]\n",
    "        combined_bandpower_cov[i*num_pairs:i*num_pairs + num_pairs, i*num_pairs:i*num_pairs + num_pairs] += bandpower_cov\n",
    "    \n",
    "    return combined_bandpower_cov"
   ]
  },
  {
   "cell_type": "code",
   "execution_count": 13,
   "metadata": {},
   "outputs": [],
   "source": [
    "bandpower_cov = bandpower_cov(files_root = files_root, ell = ell)"
   ]
  },
  {
   "cell_type": "code",
   "execution_count": null,
   "metadata": {},
   "outputs": [],
   "source": [
    "np.savetxt(\"/home/ruyi/cosmology/kcap_methods/bandpower_cl_methods/glass_theory_cov.txt\", bandpower_cov)"
   ]
  }
 ],
 "metadata": {
  "interpreter": {
   "hash": "01be924fe2aea4addbff86d278f5a467fa1e70dcc9b0a023e13e2c00a92b8b3c"
  },
  "kernelspec": {
   "display_name": "Python 3.7.10 ('cosmology_env')",
   "language": "python",
   "name": "python3"
  },
  "language_info": {
   "codemirror_mode": {
    "name": "ipython",
    "version": 3
   },
   "file_extension": ".py",
   "mimetype": "text/x-python",
   "name": "python",
   "nbconvert_exporter": "python",
   "pygments_lexer": "ipython3",
   "version": "3.7.10"
  },
  "orig_nbformat": 4
 },
 "nbformat": 4,
 "nbformat_minor": 2
}
